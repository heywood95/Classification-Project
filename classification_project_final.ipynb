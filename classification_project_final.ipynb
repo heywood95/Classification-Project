{
 "cells": [
  {
   "cell_type": "markdown",
   "id": "a69b75fd",
   "metadata": {},
   "source": [
    "# Churn at Telco"
   ]
  },
  {
   "cell_type": "markdown",
   "id": "519fdd08",
   "metadata": {},
   "source": [
    "# Goal:\n",
    "\n",
    "- Find drivers for customer churn at Telco. Why are customers churning?\n",
    "- Construct a ML classification model that accurately predicts customer churn.\n",
    "- Deliver a report that a non-data scientist can read through and understand what steps were taken, why and what was the outcome?"
   ]
  },
  {
   "cell_type": "markdown",
   "id": "3bc806c2",
   "metadata": {},
   "source": [
    "# Imports"
   ]
  },
  {
   "cell_type": "code",
   "execution_count": 1,
   "id": "5fda60dc",
   "metadata": {},
   "outputs": [],
   "source": [
    "#standard DS imports\n",
    "import pandas as pd\n",
    "import numpy as np\n",
    "import matplotlib.pyplot as plt\n",
    "import seaborn as sns\n",
    "import os\n",
    "from scipy import stats\n",
    "\n",
    "#sklearn imports\n",
    "from sklearn.model_selection import train_test_split\n",
    "import sklearn.preprocessing\n",
    "from sklearn.tree import DecisionTreeClassifier, plot_tree\n",
    "from sklearn.ensemble import RandomForestClassifier\n",
    "from sklearn.neighbors import KNeighborsClassifier\n",
    "from sklearn.linear_model import LogisticRegression\n",
    "from sklearn.metrics import classification_report, confusion_matrix, accuracy_score, precision_score, recall_score, plot_confusion_matrix\n",
    "\n",
    "#custom imports\n",
    "import prepare\n",
    "import acquire\n",
    "import env\n",
    "\n",
    "#filter out any noisy warning flags\n",
    "import warnings\n",
    "warnings.filterwarnings('ignore')"
   ]
  },
  {
   "cell_type": "markdown",
   "id": "62140f4e",
   "metadata": {},
   "source": [
    "# Acquire\n",
    "\n",
    "- Data acquired from the codeup telco_churn database\n",
    "- It contained 7,043 rows and 24 columns before cleaning\n",
    "- Each row represents a customer at telco\n",
    "- Each column represents information about the customer\n"
   ]
  },
  {
   "cell_type": "code",
   "execution_count": 2,
   "id": "8ebd63b4",
   "metadata": {},
   "outputs": [],
   "source": [
    "# Acquire Step\n",
    "df = acquire.get_telco_data()"
   ]
  },
  {
   "cell_type": "markdown",
   "id": "5569c852",
   "metadata": {},
   "source": [
    "# Prepare"
   ]
  },
  {
   "cell_type": "markdown",
   "id": "b3f19bad",
   "metadata": {},
   "source": [
    "Prepare Actions:\n",
    "\n",
    "- Dropped duplicate columns\n",
    "- Dropped null values stored as whitespace, specifically from the total_charges column    \n",
    "- Converted to correct datatype\n",
    "- Converted binary categorical variables to numeric \n",
    "- Got dummies for non-binary categorical variables\n",
    "- Concatenated dummy dataframe to original \n",
    "- split the data"
   ]
  },
  {
   "cell_type": "code",
   "execution_count": 3,
   "id": "3f270784",
   "metadata": {},
   "outputs": [
    {
     "data": {
      "text/plain": [
       "((3937, 29), (1688, 29), (1407, 29))"
      ]
     },
     "execution_count": 3,
     "metadata": {},
     "output_type": "execute_result"
    }
   ],
   "source": [
    "# prepare and split the data\n",
    "train, validate, test = prepare.prep_telco_data(df)\n",
    "\n",
    "# drop object columns and create X_train of features only \n",
    "# and y_train of churn only. \n",
    "X_train = train.drop(columns=['churn_encoded', 'internet_service_type_Fiber optic', 'gender', 'partner', 'dependents', 'phone_service', 'paperless_billing', 'churn', 'multiple_lines', 'online_security', 'online_backup', 'device_protection', 'tech_support', 'streaming_tv', 'streaming_movies', 'contract_type', 'internet_service_type', 'payment_type'])\n",
    "y_train = train.churn_encoded\n",
    "\n",
    "X_validate = validate.drop(columns=['churn_encoded', 'internet_service_type_Fiber optic', 'gender', 'partner', 'dependents', 'phone_service', 'paperless_billing', 'churn', 'multiple_lines', 'online_security', 'online_backup', 'device_protection', 'tech_support', 'streaming_tv', 'streaming_movies', 'contract_type', 'internet_service_type', 'payment_type'])\n",
    "y_validate = validate.churn_encoded\n",
    "\n",
    "X_test = test.drop(columns=['churn_encoded', 'internet_service_type_Fiber optic', 'gender', 'partner', 'dependents', 'phone_service', 'paperless_billing', 'churn', 'multiple_lines', 'online_security', 'online_backup', 'device_protection', 'tech_support', 'streaming_tv', 'streaming_movies', 'contract_type', 'internet_service_type', 'payment_type'])\n",
    "y_test = test.churn_encoded\n",
    "\n",
    "# check the shape\n",
    "X_train.shape, X_validate.shape, X_test.shape"
   ]
  },
  {
   "cell_type": "markdown",
   "id": "0354e6ef",
   "metadata": {},
   "source": [
    "# Data Dictionary"
   ]
  },
  {
   "cell_type": "markdown",
   "id": "6f14c744",
   "metadata": {},
   "source": [
    "| Feature | Definition |\n",
    "|:--------|:-----------|\n",
    "|Churn| True or False, Has the customer left the company|\n",
    "|Gender| Female or Male|\n",
    "|Senior Citizen| Is the customer a senior citizen, yes or no|\n",
    "|Partner| Does the customer have a partner designated upon signing a contract, yes or no|\n",
    "|Dependents| Are there any dependents on file for the customer, yes or no|\n",
    "|Tenure| How long, in weeks, have the customer been with Telco|\n",
    "|Phone Service| Does the customer have phone service, yes or no|\n",
    "|Multiple Lines| Does the customer have multiple lines of service, yes or no|\n",
    "|Online Security| Does the customer have online security, yes, no, or no internet|\n",
    "|Online Backup| Does the customer have backup for their internet, yes, no or no internet|\n",
    "|Device Protection|Does the customer have device protection, yes, no, or no internet|\n",
    "|Streaming Movies|Does the customer have the ability to stream movies, yes or no|\n",
    "|Streaming TV|Does the customer have the ability to stream TV, yes or no|\n",
    "|Contract Type|Does the customer have a one year, two year, or month to month contract|\n",
    "|Internet Service Type|What type of internet service does the customer have, fiber optic, DSL, or no internet|\n",
    "|Payment Type|How does the customer pay their bill, credit card, electronic check, or mailed check|"
   ]
  },
  {
   "cell_type": "markdown",
   "id": "eff0dca8",
   "metadata": {},
   "source": [
    "## A brief look at the data"
   ]
  },
  {
   "cell_type": "code",
   "execution_count": 4,
   "id": "a2334cbb",
   "metadata": {},
   "outputs": [
    {
     "data": {
      "text/html": [
       "<div>\n",
       "<style scoped>\n",
       "    .dataframe tbody tr th:only-of-type {\n",
       "        vertical-align: middle;\n",
       "    }\n",
       "\n",
       "    .dataframe tbody tr th {\n",
       "        vertical-align: top;\n",
       "    }\n",
       "\n",
       "    .dataframe thead th {\n",
       "        text-align: right;\n",
       "    }\n",
       "</style>\n",
       "<table border=\"1\" class=\"dataframe\">\n",
       "  <thead>\n",
       "    <tr style=\"text-align: right;\">\n",
       "      <th></th>\n",
       "      <th>gender</th>\n",
       "      <th>senior_citizen</th>\n",
       "      <th>partner</th>\n",
       "      <th>dependents</th>\n",
       "      <th>tenure</th>\n",
       "      <th>phone_service</th>\n",
       "      <th>multiple_lines</th>\n",
       "      <th>online_security</th>\n",
       "      <th>online_backup</th>\n",
       "      <th>device_protection</th>\n",
       "      <th>...</th>\n",
       "      <th>streaming_tv_Yes</th>\n",
       "      <th>streaming_movies_No internet service</th>\n",
       "      <th>streaming_movies_Yes</th>\n",
       "      <th>contract_type_One year</th>\n",
       "      <th>contract_type_Two year</th>\n",
       "      <th>internet_service_type_Fiber optic</th>\n",
       "      <th>internet_service_type_None</th>\n",
       "      <th>payment_type_Credit card (automatic)</th>\n",
       "      <th>payment_type_Electronic check</th>\n",
       "      <th>payment_type_Mailed check</th>\n",
       "    </tr>\n",
       "  </thead>\n",
       "  <tbody>\n",
       "    <tr>\n",
       "      <th>5919</th>\n",
       "      <td>Female</td>\n",
       "      <td>0</td>\n",
       "      <td>No</td>\n",
       "      <td>No</td>\n",
       "      <td>58</td>\n",
       "      <td>Yes</td>\n",
       "      <td>Yes</td>\n",
       "      <td>Yes</td>\n",
       "      <td>Yes</td>\n",
       "      <td>Yes</td>\n",
       "      <td>...</td>\n",
       "      <td>0</td>\n",
       "      <td>0</td>\n",
       "      <td>0</td>\n",
       "      <td>1</td>\n",
       "      <td>0</td>\n",
       "      <td>0</td>\n",
       "      <td>0</td>\n",
       "      <td>1</td>\n",
       "      <td>0</td>\n",
       "      <td>0</td>\n",
       "    </tr>\n",
       "    <tr>\n",
       "      <th>1915</th>\n",
       "      <td>Male</td>\n",
       "      <td>0</td>\n",
       "      <td>No</td>\n",
       "      <td>Yes</td>\n",
       "      <td>71</td>\n",
       "      <td>Yes</td>\n",
       "      <td>Yes</td>\n",
       "      <td>Yes</td>\n",
       "      <td>Yes</td>\n",
       "      <td>No</td>\n",
       "      <td>...</td>\n",
       "      <td>0</td>\n",
       "      <td>0</td>\n",
       "      <td>0</td>\n",
       "      <td>1</td>\n",
       "      <td>0</td>\n",
       "      <td>1</td>\n",
       "      <td>0</td>\n",
       "      <td>1</td>\n",
       "      <td>0</td>\n",
       "      <td>0</td>\n",
       "    </tr>\n",
       "    <tr>\n",
       "      <th>5054</th>\n",
       "      <td>Female</td>\n",
       "      <td>0</td>\n",
       "      <td>Yes</td>\n",
       "      <td>Yes</td>\n",
       "      <td>35</td>\n",
       "      <td>Yes</td>\n",
       "      <td>Yes</td>\n",
       "      <td>No internet service</td>\n",
       "      <td>No internet service</td>\n",
       "      <td>No internet service</td>\n",
       "      <td>...</td>\n",
       "      <td>0</td>\n",
       "      <td>1</td>\n",
       "      <td>0</td>\n",
       "      <td>0</td>\n",
       "      <td>0</td>\n",
       "      <td>0</td>\n",
       "      <td>1</td>\n",
       "      <td>0</td>\n",
       "      <td>1</td>\n",
       "      <td>0</td>\n",
       "    </tr>\n",
       "    <tr>\n",
       "      <th>2355</th>\n",
       "      <td>Male</td>\n",
       "      <td>0</td>\n",
       "      <td>Yes</td>\n",
       "      <td>Yes</td>\n",
       "      <td>1</td>\n",
       "      <td>Yes</td>\n",
       "      <td>No</td>\n",
       "      <td>No internet service</td>\n",
       "      <td>No internet service</td>\n",
       "      <td>No internet service</td>\n",
       "      <td>...</td>\n",
       "      <td>0</td>\n",
       "      <td>1</td>\n",
       "      <td>0</td>\n",
       "      <td>0</td>\n",
       "      <td>0</td>\n",
       "      <td>0</td>\n",
       "      <td>1</td>\n",
       "      <td>0</td>\n",
       "      <td>0</td>\n",
       "      <td>1</td>\n",
       "    </tr>\n",
       "    <tr>\n",
       "      <th>6279</th>\n",
       "      <td>Male</td>\n",
       "      <td>1</td>\n",
       "      <td>No</td>\n",
       "      <td>No</td>\n",
       "      <td>20</td>\n",
       "      <td>Yes</td>\n",
       "      <td>No</td>\n",
       "      <td>Yes</td>\n",
       "      <td>No</td>\n",
       "      <td>No</td>\n",
       "      <td>...</td>\n",
       "      <td>0</td>\n",
       "      <td>0</td>\n",
       "      <td>0</td>\n",
       "      <td>1</td>\n",
       "      <td>0</td>\n",
       "      <td>0</td>\n",
       "      <td>0</td>\n",
       "      <td>0</td>\n",
       "      <td>0</td>\n",
       "      <td>1</td>\n",
       "    </tr>\n",
       "  </tbody>\n",
       "</table>\n",
       "<p>5 rows × 47 columns</p>\n",
       "</div>"
      ],
      "text/plain": [
       "      gender  senior_citizen partner dependents  tenure phone_service  \\\n",
       "5919  Female               0      No         No      58           Yes   \n",
       "1915    Male               0      No        Yes      71           Yes   \n",
       "5054  Female               0     Yes        Yes      35           Yes   \n",
       "2355    Male               0     Yes        Yes       1           Yes   \n",
       "6279    Male               1      No         No      20           Yes   \n",
       "\n",
       "     multiple_lines      online_security        online_backup  \\\n",
       "5919            Yes                  Yes                  Yes   \n",
       "1915            Yes                  Yes                  Yes   \n",
       "5054            Yes  No internet service  No internet service   \n",
       "2355             No  No internet service  No internet service   \n",
       "6279             No                  Yes                   No   \n",
       "\n",
       "        device_protection  ... streaming_tv_Yes  \\\n",
       "5919                  Yes  ...                0   \n",
       "1915                   No  ...                0   \n",
       "5054  No internet service  ...                0   \n",
       "2355  No internet service  ...                0   \n",
       "6279                   No  ...                0   \n",
       "\n",
       "     streaming_movies_No internet service streaming_movies_Yes  \\\n",
       "5919                                    0                    0   \n",
       "1915                                    0                    0   \n",
       "5054                                    1                    0   \n",
       "2355                                    1                    0   \n",
       "6279                                    0                    0   \n",
       "\n",
       "     contract_type_One year  contract_type_Two year  \\\n",
       "5919                      1                       0   \n",
       "1915                      1                       0   \n",
       "5054                      0                       0   \n",
       "2355                      0                       0   \n",
       "6279                      1                       0   \n",
       "\n",
       "      internet_service_type_Fiber optic internet_service_type_None  \\\n",
       "5919                                  0                          0   \n",
       "1915                                  1                          0   \n",
       "5054                                  0                          1   \n",
       "2355                                  0                          1   \n",
       "6279                                  0                          0   \n",
       "\n",
       "     payment_type_Credit card (automatic) payment_type_Electronic check  \\\n",
       "5919                                    1                             0   \n",
       "1915                                    1                             0   \n",
       "5054                                    0                             1   \n",
       "2355                                    0                             0   \n",
       "6279                                    0                             0   \n",
       "\n",
       "     payment_type_Mailed check  \n",
       "5919                         0  \n",
       "1915                         0  \n",
       "5054                         0  \n",
       "2355                         1  \n",
       "6279                         1  \n",
       "\n",
       "[5 rows x 47 columns]"
      ]
     },
     "execution_count": 4,
     "metadata": {},
     "output_type": "execute_result"
    }
   ],
   "source": [
    "# Looking at the cleaned up columns\n",
    "train.head()"
   ]
  },
  {
   "cell_type": "markdown",
   "id": "01c83de8",
   "metadata": {},
   "source": [
    "## A summary of the data"
   ]
  },
  {
   "cell_type": "code",
   "execution_count": 5,
   "id": "81387c4b",
   "metadata": {},
   "outputs": [
    {
     "data": {
      "text/html": [
       "<div>\n",
       "<style scoped>\n",
       "    .dataframe tbody tr th:only-of-type {\n",
       "        vertical-align: middle;\n",
       "    }\n",
       "\n",
       "    .dataframe tbody tr th {\n",
       "        vertical-align: top;\n",
       "    }\n",
       "\n",
       "    .dataframe thead th {\n",
       "        text-align: right;\n",
       "    }\n",
       "</style>\n",
       "<table border=\"1\" class=\"dataframe\">\n",
       "  <thead>\n",
       "    <tr style=\"text-align: right;\">\n",
       "      <th></th>\n",
       "      <th>senior_citizen</th>\n",
       "      <th>tenure</th>\n",
       "      <th>monthly_charges</th>\n",
       "      <th>total_charges</th>\n",
       "      <th>gender_encoded</th>\n",
       "      <th>partner_encoded</th>\n",
       "      <th>dependents_encoded</th>\n",
       "      <th>phone_service_encoded</th>\n",
       "      <th>paperless_billing_encoded</th>\n",
       "      <th>churn_encoded</th>\n",
       "      <th>...</th>\n",
       "      <th>streaming_tv_Yes</th>\n",
       "      <th>streaming_movies_No internet service</th>\n",
       "      <th>streaming_movies_Yes</th>\n",
       "      <th>contract_type_One year</th>\n",
       "      <th>contract_type_Two year</th>\n",
       "      <th>internet_service_type_Fiber optic</th>\n",
       "      <th>internet_service_type_None</th>\n",
       "      <th>payment_type_Credit card (automatic)</th>\n",
       "      <th>payment_type_Electronic check</th>\n",
       "      <th>payment_type_Mailed check</th>\n",
       "    </tr>\n",
       "  </thead>\n",
       "  <tbody>\n",
       "    <tr>\n",
       "      <th>count</th>\n",
       "      <td>3937.000000</td>\n",
       "      <td>3937.000000</td>\n",
       "      <td>3937.000000</td>\n",
       "      <td>3937.000000</td>\n",
       "      <td>3937.000000</td>\n",
       "      <td>3937.000000</td>\n",
       "      <td>3937.000000</td>\n",
       "      <td>3937.000000</td>\n",
       "      <td>3937.000000</td>\n",
       "      <td>3937.000000</td>\n",
       "      <td>...</td>\n",
       "      <td>3937.000000</td>\n",
       "      <td>3937.000000</td>\n",
       "      <td>3937.000000</td>\n",
       "      <td>3937.000000</td>\n",
       "      <td>3937.000000</td>\n",
       "      <td>3937.000000</td>\n",
       "      <td>3937.000000</td>\n",
       "      <td>3937.000000</td>\n",
       "      <td>3937.000000</td>\n",
       "      <td>3937.000000</td>\n",
       "    </tr>\n",
       "    <tr>\n",
       "      <th>mean</th>\n",
       "      <td>0.161290</td>\n",
       "      <td>32.775210</td>\n",
       "      <td>64.805131</td>\n",
       "      <td>2316.775641</td>\n",
       "      <td>0.498095</td>\n",
       "      <td>0.485141</td>\n",
       "      <td>0.302769</td>\n",
       "      <td>0.905258</td>\n",
       "      <td>0.590297</td>\n",
       "      <td>0.265685</td>\n",
       "      <td>...</td>\n",
       "      <td>0.386335</td>\n",
       "      <td>0.220218</td>\n",
       "      <td>0.391415</td>\n",
       "      <td>0.207010</td>\n",
       "      <td>0.243078</td>\n",
       "      <td>0.437389</td>\n",
       "      <td>0.220218</td>\n",
       "      <td>0.227330</td>\n",
       "      <td>0.327407</td>\n",
       "      <td>0.226314</td>\n",
       "    </tr>\n",
       "    <tr>\n",
       "      <th>std</th>\n",
       "      <td>0.367845</td>\n",
       "      <td>24.709604</td>\n",
       "      <td>30.294804</td>\n",
       "      <td>2284.984394</td>\n",
       "      <td>0.500060</td>\n",
       "      <td>0.499843</td>\n",
       "      <td>0.459514</td>\n",
       "      <td>0.292896</td>\n",
       "      <td>0.491841</td>\n",
       "      <td>0.441753</td>\n",
       "      <td>...</td>\n",
       "      <td>0.486971</td>\n",
       "      <td>0.414447</td>\n",
       "      <td>0.488129</td>\n",
       "      <td>0.405215</td>\n",
       "      <td>0.428997</td>\n",
       "      <td>0.496127</td>\n",
       "      <td>0.414447</td>\n",
       "      <td>0.419161</td>\n",
       "      <td>0.469327</td>\n",
       "      <td>0.418498</td>\n",
       "    </tr>\n",
       "    <tr>\n",
       "      <th>min</th>\n",
       "      <td>0.000000</td>\n",
       "      <td>1.000000</td>\n",
       "      <td>18.250000</td>\n",
       "      <td>18.850000</td>\n",
       "      <td>0.000000</td>\n",
       "      <td>0.000000</td>\n",
       "      <td>0.000000</td>\n",
       "      <td>0.000000</td>\n",
       "      <td>0.000000</td>\n",
       "      <td>0.000000</td>\n",
       "      <td>...</td>\n",
       "      <td>0.000000</td>\n",
       "      <td>0.000000</td>\n",
       "      <td>0.000000</td>\n",
       "      <td>0.000000</td>\n",
       "      <td>0.000000</td>\n",
       "      <td>0.000000</td>\n",
       "      <td>0.000000</td>\n",
       "      <td>0.000000</td>\n",
       "      <td>0.000000</td>\n",
       "      <td>0.000000</td>\n",
       "    </tr>\n",
       "    <tr>\n",
       "      <th>25%</th>\n",
       "      <td>0.000000</td>\n",
       "      <td>9.000000</td>\n",
       "      <td>34.700000</td>\n",
       "      <td>396.100000</td>\n",
       "      <td>0.000000</td>\n",
       "      <td>0.000000</td>\n",
       "      <td>0.000000</td>\n",
       "      <td>1.000000</td>\n",
       "      <td>0.000000</td>\n",
       "      <td>0.000000</td>\n",
       "      <td>...</td>\n",
       "      <td>0.000000</td>\n",
       "      <td>0.000000</td>\n",
       "      <td>0.000000</td>\n",
       "      <td>0.000000</td>\n",
       "      <td>0.000000</td>\n",
       "      <td>0.000000</td>\n",
       "      <td>0.000000</td>\n",
       "      <td>0.000000</td>\n",
       "      <td>0.000000</td>\n",
       "      <td>0.000000</td>\n",
       "    </tr>\n",
       "    <tr>\n",
       "      <th>50%</th>\n",
       "      <td>0.000000</td>\n",
       "      <td>30.000000</td>\n",
       "      <td>70.250000</td>\n",
       "      <td>1414.800000</td>\n",
       "      <td>0.000000</td>\n",
       "      <td>0.000000</td>\n",
       "      <td>0.000000</td>\n",
       "      <td>1.000000</td>\n",
       "      <td>1.000000</td>\n",
       "      <td>0.000000</td>\n",
       "      <td>...</td>\n",
       "      <td>0.000000</td>\n",
       "      <td>0.000000</td>\n",
       "      <td>0.000000</td>\n",
       "      <td>0.000000</td>\n",
       "      <td>0.000000</td>\n",
       "      <td>0.000000</td>\n",
       "      <td>0.000000</td>\n",
       "      <td>0.000000</td>\n",
       "      <td>0.000000</td>\n",
       "      <td>0.000000</td>\n",
       "    </tr>\n",
       "    <tr>\n",
       "      <th>75%</th>\n",
       "      <td>0.000000</td>\n",
       "      <td>56.000000</td>\n",
       "      <td>90.300000</td>\n",
       "      <td>3893.600000</td>\n",
       "      <td>1.000000</td>\n",
       "      <td>1.000000</td>\n",
       "      <td>1.000000</td>\n",
       "      <td>1.000000</td>\n",
       "      <td>1.000000</td>\n",
       "      <td>1.000000</td>\n",
       "      <td>...</td>\n",
       "      <td>1.000000</td>\n",
       "      <td>0.000000</td>\n",
       "      <td>1.000000</td>\n",
       "      <td>0.000000</td>\n",
       "      <td>0.000000</td>\n",
       "      <td>1.000000</td>\n",
       "      <td>0.000000</td>\n",
       "      <td>0.000000</td>\n",
       "      <td>1.000000</td>\n",
       "      <td>0.000000</td>\n",
       "    </tr>\n",
       "    <tr>\n",
       "      <th>max</th>\n",
       "      <td>1.000000</td>\n",
       "      <td>72.000000</td>\n",
       "      <td>118.650000</td>\n",
       "      <td>8594.400000</td>\n",
       "      <td>1.000000</td>\n",
       "      <td>1.000000</td>\n",
       "      <td>1.000000</td>\n",
       "      <td>1.000000</td>\n",
       "      <td>1.000000</td>\n",
       "      <td>1.000000</td>\n",
       "      <td>...</td>\n",
       "      <td>1.000000</td>\n",
       "      <td>1.000000</td>\n",
       "      <td>1.000000</td>\n",
       "      <td>1.000000</td>\n",
       "      <td>1.000000</td>\n",
       "      <td>1.000000</td>\n",
       "      <td>1.000000</td>\n",
       "      <td>1.000000</td>\n",
       "      <td>1.000000</td>\n",
       "      <td>1.000000</td>\n",
       "    </tr>\n",
       "  </tbody>\n",
       "</table>\n",
       "<p>8 rows × 31 columns</p>\n",
       "</div>"
      ],
      "text/plain": [
       "       senior_citizen       tenure  monthly_charges  total_charges  \\\n",
       "count     3937.000000  3937.000000      3937.000000    3937.000000   \n",
       "mean         0.161290    32.775210        64.805131    2316.775641   \n",
       "std          0.367845    24.709604        30.294804    2284.984394   \n",
       "min          0.000000     1.000000        18.250000      18.850000   \n",
       "25%          0.000000     9.000000        34.700000     396.100000   \n",
       "50%          0.000000    30.000000        70.250000    1414.800000   \n",
       "75%          0.000000    56.000000        90.300000    3893.600000   \n",
       "max          1.000000    72.000000       118.650000    8594.400000   \n",
       "\n",
       "       gender_encoded  partner_encoded  dependents_encoded  \\\n",
       "count     3937.000000      3937.000000         3937.000000   \n",
       "mean         0.498095         0.485141            0.302769   \n",
       "std          0.500060         0.499843            0.459514   \n",
       "min          0.000000         0.000000            0.000000   \n",
       "25%          0.000000         0.000000            0.000000   \n",
       "50%          0.000000         0.000000            0.000000   \n",
       "75%          1.000000         1.000000            1.000000   \n",
       "max          1.000000         1.000000            1.000000   \n",
       "\n",
       "       phone_service_encoded  paperless_billing_encoded  churn_encoded  ...  \\\n",
       "count            3937.000000                3937.000000    3937.000000  ...   \n",
       "mean                0.905258                   0.590297       0.265685  ...   \n",
       "std                 0.292896                   0.491841       0.441753  ...   \n",
       "min                 0.000000                   0.000000       0.000000  ...   \n",
       "25%                 1.000000                   0.000000       0.000000  ...   \n",
       "50%                 1.000000                   1.000000       0.000000  ...   \n",
       "75%                 1.000000                   1.000000       1.000000  ...   \n",
       "max                 1.000000                   1.000000       1.000000  ...   \n",
       "\n",
       "       streaming_tv_Yes  streaming_movies_No internet service  \\\n",
       "count       3937.000000                           3937.000000   \n",
       "mean           0.386335                              0.220218   \n",
       "std            0.486971                              0.414447   \n",
       "min            0.000000                              0.000000   \n",
       "25%            0.000000                              0.000000   \n",
       "50%            0.000000                              0.000000   \n",
       "75%            1.000000                              0.000000   \n",
       "max            1.000000                              1.000000   \n",
       "\n",
       "       streaming_movies_Yes  contract_type_One year  contract_type_Two year  \\\n",
       "count           3937.000000             3937.000000             3937.000000   \n",
       "mean               0.391415                0.207010                0.243078   \n",
       "std                0.488129                0.405215                0.428997   \n",
       "min                0.000000                0.000000                0.000000   \n",
       "25%                0.000000                0.000000                0.000000   \n",
       "50%                0.000000                0.000000                0.000000   \n",
       "75%                1.000000                0.000000                0.000000   \n",
       "max                1.000000                1.000000                1.000000   \n",
       "\n",
       "       internet_service_type_Fiber optic  internet_service_type_None  \\\n",
       "count                        3937.000000                 3937.000000   \n",
       "mean                            0.437389                    0.220218   \n",
       "std                             0.496127                    0.414447   \n",
       "min                             0.000000                    0.000000   \n",
       "25%                             0.000000                    0.000000   \n",
       "50%                             0.000000                    0.000000   \n",
       "75%                             1.000000                    0.000000   \n",
       "max                             1.000000                    1.000000   \n",
       "\n",
       "       payment_type_Credit card (automatic)  payment_type_Electronic check  \\\n",
       "count                           3937.000000                    3937.000000   \n",
       "mean                               0.227330                       0.327407   \n",
       "std                                0.419161                       0.469327   \n",
       "min                                0.000000                       0.000000   \n",
       "25%                                0.000000                       0.000000   \n",
       "50%                                0.000000                       0.000000   \n",
       "75%                                0.000000                       1.000000   \n",
       "max                                1.000000                       1.000000   \n",
       "\n",
       "       payment_type_Mailed check  \n",
       "count                3937.000000  \n",
       "mean                    0.226314  \n",
       "std                     0.418498  \n",
       "min                     0.000000  \n",
       "25%                     0.000000  \n",
       "50%                     0.000000  \n",
       "75%                     0.000000  \n",
       "max                     1.000000  \n",
       "\n",
       "[8 rows x 31 columns]"
      ]
     },
     "execution_count": 5,
     "metadata": {},
     "output_type": "execute_result"
    }
   ],
   "source": [
    "# Summary of the data\n",
    "train.describe()"
   ]
  },
  {
   "cell_type": "markdown",
   "id": "e909e9e5",
   "metadata": {},
   "source": [
    "# Explore"
   ]
  },
  {
   "cell_type": "markdown",
   "id": "0832ca1c",
   "metadata": {},
   "source": [
    "## 1) Are customers with Fiber Optic more or less likely to churn?"
   ]
  },
  {
   "cell_type": "code",
   "execution_count": 6,
   "id": "be44792b",
   "metadata": {},
   "outputs": [
    {
     "data": {
      "text/plain": [
       "Text(0.5, 1.0, 'Customers with fiber optic are more likely to churn')"
      ]
     },
     "execution_count": 6,
     "metadata": {},
     "output_type": "execute_result"
    },
    {
     "data": {
      "image/png": "[encoded data removed]",
      "text/plain": [
       "<Figure size 640x480 with 1 Axes>"
      ]
     },
     "metadata": {},
     "output_type": "display_data"
    }
   ],
   "source": [
    "# Visualization for fiber optic\n",
    "sns.countplot(data=train, x=\"internet_service_type_Fiber optic\", hue=\"churn_encoded\")\n",
    "plt.title('Customers with fiber optic are more likely to churn')"
   ]
  },
  {
   "cell_type": "markdown",
   "id": "7d32389b",
   "metadata": {},
   "source": [
    "- About 43% of customers with fiber optic churned \n",
    "- About 13% of customers without fiber optic churned\n",
    "\n",
    "H_0: Customers with fiber optic are less likely to churn.  \n",
    "\n",
    "H_a: Customers with fiber optic are more likely to churn.  "
   ]
  },
  {
   "cell_type": "code",
   "execution_count": 7,
   "id": "9a89b7f8",
   "metadata": {},
   "outputs": [
    {
     "name": "stdout",
     "output_type": "stream",
     "text": [
      "Reject the null hypothesis that Customers with fiber optic are less likely to churn.\n",
      "Sufficient evidence to move forward understanding that Customers with fiber optic are more likely to churn.\n"
     ]
    },
    {
     "data": {
      "text/plain": [
       "2.831419548361709e-90"
      ]
     },
     "execution_count": 7,
     "metadata": {},
     "output_type": "execute_result"
    }
   ],
   "source": [
    "# Running a chi squared statistical test to compare proportions and have more confidence\n",
    "alpha = 0.05\n",
    "null_hypothesis = \"Customers with fiber optic are less likely to churn.\"\n",
    "alternative_hypothesis = \"Customers with fiber optic are more likely to churn.\"\n",
    "\n",
    "# Setup a crosstab of observed churn to fiber optic\n",
    "observed = pd.crosstab(train.churn_encoded, train['internet_service_type_Fiber optic'])\n",
    "\n",
    "chi2, p, degf, expected = stats.chi2_contingency(observed)\n",
    "\n",
    "# Create an if statement to test for the null hypothesis\n",
    "if p < alpha:\n",
    "    print(\"Reject the null hypothesis that\", null_hypothesis)\n",
    "    print(\"Sufficient evidence to move forward understanding that\", alternative_hypothesis)\n",
    "else:\n",
    "    print(\"Fail to reject the null\")\n",
    "    print(\"Insufficient evidence to reject the null\")\n",
    "p"
   ]
  },
  {
   "cell_type": "markdown",
   "id": "458b2048",
   "metadata": {},
   "source": [
    "***Takeaway:***\n",
    "\n",
    "It is more likely that customers who have fiber optic churned versus customers who did not have fiber optic."
   ]
  },
  {
   "cell_type": "markdown",
   "id": "b5d7bf77",
   "metadata": {},
   "source": [
    "## 2) Does the type of contract (one year, two year, or month to month) affect if a customer churns?¶"
   ]
  },
  {
   "cell_type": "code",
   "execution_count": 56,
   "id": "78839363",
   "metadata": {},
   "outputs": [
    {
     "data": {
      "text/plain": [
       "Text(0, 0.5, 'Number of Customers')"
      ]
     },
     "execution_count": 56,
     "metadata": {},
     "output_type": "execute_result"
    },
    {
     "data": {
      "image/png": "[encoded data removed]",
      "text/plain": [
       "<Figure size 640x480 with 1 Axes>"
      ]
     },
     "metadata": {},
     "output_type": "display_data"
    }
   ],
   "source": [
    "# Visualization to show level of churn in customer contracts.\n",
    "colours = ['lightgrey','red']\n",
    "sns.countplot(data=train, x=\"contract_type\", hue=\"churn_encoded\", order = train['contract_type'].value_counts().index, palette=colours)\n",
    "plt.title('Month to month contracts have the highest level of churn')\n",
    "plt.xlabel('Contract Type')\n",
    "plt.ylabel('Number of Customers')"
   ]
  },
  {
   "cell_type": "markdown",
   "id": "d7aed705",
   "metadata": {},
   "source": [
    "- Month to month contracts have the highest level of churn.\n",
    "- One year contracts are the next highest, but still relatively low churn.\n",
    "- Two year contracts have the lowest level of churn.\n",
    "\n",
    "H_0: There is no correlation between type of contract and if a customer churns.  \n",
    "\n",
    "H_a: There is a correlation between type of contract and if a customer churns.  "
   ]
  },
  {
   "cell_type": "code",
   "execution_count": 9,
   "id": "f000481a",
   "metadata": {},
   "outputs": [],
   "source": [
    "# Need to create a varialbe that holds month to month contracts for \n",
    "# train, validate, and test\n",
    "\n",
    "monthly_train = (train['contract_type_One year'] == 0) & (train['contract_type_Two year'] == 0)\n",
    "monthly_validate = (validate['contract_type_One year'] == 0) & (validate['contract_type_Two year'] == 0)\n",
    "monthly_test = (test['contract_type_One year'] == 0) & (test['contract_type_Two year'] == 0)\n"
   ]
  },
  {
   "cell_type": "code",
   "execution_count": 10,
   "id": "f153cd54",
   "metadata": {},
   "outputs": [],
   "source": [
    "# Create a new column for month to month contracts for the train, validate, and test df\n",
    "\n",
    "train = train.assign(monthly_contract = monthly_train)\n",
    "train['monthly_encoded'] = train.monthly_contract.map({True: 1, False: 0})\n",
    "\n",
    "validate = validate.assign(monthly_contract = monthly_validate)\n",
    "validate['monthly_encoded'] = validate.monthly_contract.map({True: 1, False: 0})\n",
    "\n",
    "test = test.assign(monthly_contract = monthly_test)\n",
    "test['monthly_encoded'] = test.monthly_contract.map({True: 1, False: 0})"
   ]
  },
  {
   "cell_type": "code",
   "execution_count": 11,
   "id": "ce735fdf",
   "metadata": {},
   "outputs": [
    {
     "name": "stdout",
     "output_type": "stream",
     "text": [
      "Reject the null hypothesis that There is no correlation between type of contract and if a customer churns\n",
      "Sufficient evidence to move forward understanding that There is a correlation between type of contract and if a customer churns.\n"
     ]
    },
    {
     "data": {
      "text/plain": [
       "3.4484593947893894e-143"
      ]
     },
     "execution_count": 11,
     "metadata": {},
     "output_type": "execute_result"
    }
   ],
   "source": [
    "# Running a chi squared statistical test to compare proportions and have more confidence\n",
    "null_hypothesis = \"There is no correlation between type of contract and if a customer churns\"\n",
    "alternative_hypothesis = \"There is a correlation between type of contract and if a customer churns.\"\n",
    "\n",
    "# Setup a crosstab of observed churn to month to month contracts\n",
    "observed = pd.crosstab(train.churn_encoded, monthly_train)\n",
    "\n",
    "chi2, p, degf, expected = stats.chi2_contingency(observed)\n",
    "\n",
    "# Create an if statement to test for the null hypothesis\n",
    "if p < alpha:\n",
    "    print(\"Reject the null hypothesis that\", null_hypothesis)\n",
    "    print(\"Sufficient evidence to move forward understanding that\", alternative_hypothesis)\n",
    "else:\n",
    "    print(\"Fail to reject the null\")\n",
    "    print(\"Insufficient evidence to reject the null\")\n",
    "p"
   ]
  },
  {
   "cell_type": "markdown",
   "id": "fad89fb9",
   "metadata": {},
   "source": [
    "***Takeaway:***\n",
    "\n",
    "While it is no surprise that month to month contracts produce the highest level of churn, the drastic drop from month to month to one year and two year contracts should be looked at and possible incentives or discounts for the one year and two year contracts could reduce the amount of month to month contracts and level of churn."
   ]
  },
  {
   "cell_type": "markdown",
   "id": "fedfb2af",
   "metadata": {},
   "source": [
    "## 3) Is there a service that is associated with more churn than expected?"
   ]
  },
  {
   "cell_type": "code",
   "execution_count": 57,
   "id": "7e663487",
   "metadata": {},
   "outputs": [
    {
     "data": {
      "text/plain": [
       "Text(0, 0.5, 'Number of Customers')"
      ]
     },
     "execution_count": 57,
     "metadata": {},
     "output_type": "execute_result"
    },
    {
     "data": {
      "image/png": "[encoded data removed]",
      "text/plain": [
       "<Figure size 640x480 with 1 Axes>"
      ]
     },
     "metadata": {},
     "output_type": "display_data"
    }
   ],
   "source": [
    "# Visualization to show level of churn for customers with and without online security\n",
    "colours = ['lightgrey','red']\n",
    "sns.countplot(data=train, x=\"online_security\", hue=\"churn_encoded\", order = train['online_security'].value_counts().index, palette=colours)\n",
    "plt.title('Customers without online security have the highest level of churn')\n",
    "plt.xlabel('online security')\n",
    "plt.ylabel('Number of Customers')"
   ]
  },
  {
   "cell_type": "markdown",
   "id": "0184f3f3",
   "metadata": {},
   "source": [
    "- Customers with online security have 17% churn rate.\n",
    "- Customers with no internet service have an 11% churn rate.\n",
    "- Customers withouth online security have a 40% churn rate.\n",
    "\n",
    "H_0: Customers with online security are less likely to churn.  \n",
    "H_a: Customers without online security are more likely to churn.  "
   ]
  },
  {
   "cell_type": "code",
   "execution_count": 13,
   "id": "2f617def",
   "metadata": {},
   "outputs": [
    {
     "name": "stdout",
     "output_type": "stream",
     "text": [
      "Reject the null hypothesis that Customers with online security are less likely to churn.\n",
      "Sufficient evidence to move forward understanding that Customers without online security are more likely to churn.\n"
     ]
    },
    {
     "data": {
      "text/plain": [
       "1.3862996282206897e-111"
      ]
     },
     "execution_count": 13,
     "metadata": {},
     "output_type": "execute_result"
    }
   ],
   "source": [
    "# Running a chi squared statistical test to compare proportions and have more confidence\n",
    "alpha = 0.05\n",
    "null_hypothesis = \"Customers with online security are less likely to churn.\"\n",
    "alternative_hypothesis = \"Customers without online security are more likely to churn.\"\n",
    "\n",
    "# Setup a crosstab of observed churn to online security\n",
    "observed = pd.crosstab(train.churn_encoded, train.online_security)\n",
    "\n",
    "chi2, p, degf, expected = stats.chi2_contingency(observed)\n",
    "\n",
    "# Create an if statement to test for the null hypothesis\n",
    "if p < alpha:\n",
    "    print(\"Reject the null hypothesis that\", null_hypothesis)\n",
    "    print(\"Sufficient evidence to move forward understanding that\", alternative_hypothesis)\n",
    "else:\n",
    "    print(\"Fail to reject the null\")\n",
    "    print(\"Insufficient evidence to reject the null\")\n",
    "p"
   ]
  },
  {
   "cell_type": "code",
   "execution_count": 14,
   "id": "aa72b8d0",
   "metadata": {},
   "outputs": [
    {
     "data": {
      "text/plain": [
       "Text(0.5, 1.0, 'Churn for TV streaming exists but is not significant enough to use')"
      ]
     },
     "execution_count": 14,
     "metadata": {},
     "output_type": "execute_result"
    },
    {
     "data": {
      "image/png": "[encoded data removed]",
      "text/plain": [
       "<Figure size 640x480 with 1 Axes>"
      ]
     },
     "metadata": {},
     "output_type": "display_data"
    }
   ],
   "source": [
    "# Visualization to show level of churn for customers with and without streaming TV service\n",
    "sns.countplot(data=train, x=\"streaming_tv\", hue=\"churn_encoded\")\n",
    "plt.title('Churn for TV streaming exists but is not significant enough to use')"
   ]
  },
  {
   "cell_type": "markdown",
   "id": "416d6e49",
   "metadata": {},
   "source": [
    "- Visualization to compare internet security to entertainment services. While there is churn, the difference between customers with and without tv streaming and the level of churn is not significant."
   ]
  },
  {
   "cell_type": "markdown",
   "id": "614d97d4",
   "metadata": {},
   "source": [
    "***Takeaways:***\n",
    "    \n",
    "The major contributor for customer churn is more correlated with internet services that provide security such as tech support, device protection, online backup, and online security.  \n",
    "\n",
    "Other services for entertainment purposes such as streaming tv and movies had less of an impact on customer churn.\n",
    "\n",
    "I have selected online security because this factor has the highest level of churn out of the other contributors noted above."
   ]
  },
  {
   "cell_type": "markdown",
   "id": "e0b79b6a",
   "metadata": {},
   "source": [
    "## 4) Do customers who churn have a higher average monthly spend than those who don't?¶"
   ]
  },
  {
   "cell_type": "code",
   "execution_count": 15,
   "id": "85f90425",
   "metadata": {},
   "outputs": [
    {
     "data": {
      "text/plain": [
       "<AxesSubplot:title={'center':'Customers who spend between 70-100 dollars have the highest churn rate'}, xlabel='monthly_charges', ylabel='Count'>"
      ]
     },
     "execution_count": 15,
     "metadata": {},
     "output_type": "execute_result"
    },
    {
     "data": {
      "image/png": "[encoded data removed]",
      "text/plain": [
       "<Figure size 640x480 with 1 Axes>"
      ]
     },
     "metadata": {},
     "output_type": "display_data"
    }
   ],
   "source": [
    "# Visualization to show level of churn for monthly charges\n",
    "plt.title('Customers who spend between 70-100 dollars have the highest churn rate')\n",
    "sns.histplot(data=train, x=\"monthly_charges\", hue=\"churn_encoded\")"
   ]
  },
  {
   "cell_type": "markdown",
   "id": "8e6b6e79",
   "metadata": {},
   "source": [
    "- As charges increase, churn increases until the rate reaches over 100 dollars.\n",
    "- The largest proportion of customers spent between 20-30 dollars.\n",
    "\n",
    "H_0: There is no correlation between monthly charges and churn.  \n",
    "H_a: There is a correlation between monthly charges and churn.  "
   ]
  },
  {
   "cell_type": "code",
   "execution_count": 16,
   "id": "4fa72b5e",
   "metadata": {},
   "outputs": [],
   "source": [
    "# Need to create a varialbe that holds monthly charges greater than or equal \n",
    "# to 80 dollars for train, validate, and test\n",
    "\n",
    "monthly_charges_80_train = (train['monthly_charges'] >= 80) \n",
    "monthly_charges_80_validate = (validate['monthly_charges'] >= 80) \n",
    "monthly_charges_80_test = (test['monthly_charges'] >= 80) \n"
   ]
  },
  {
   "cell_type": "code",
   "execution_count": 17,
   "id": "b54597f6",
   "metadata": {},
   "outputs": [],
   "source": [
    "# create a new column for monthly charges greater than 80 dollars \n",
    "# for the train, validate, and test df\n",
    "\n",
    "train = train.assign(monthly_charges = monthly_charges_80_train)\n",
    "train\n",
    "\n",
    "train['monthly_charges_greater_than_80'] = train.monthly_charges.map({True: 1, False: 0})\n",
    "train.head()\n",
    "\n",
    "validate = validate.assign(monthly_charges = monthly_charges_80_validate)\n",
    "validate['monthly_charges_greater_than_80'] = validate.monthly_charges.map({True: 1, False: 0})\n",
    "\n",
    "test = test.assign(monthly_charges = monthly_charges_80_test)\n",
    "test['monthly_charges_greater_than_80'] = test.monthly_charges.map({True: 1, False: 0})"
   ]
  },
  {
   "cell_type": "code",
   "execution_count": 18,
   "id": "7755b387",
   "metadata": {},
   "outputs": [
    {
     "name": "stdout",
     "output_type": "stream",
     "text": [
      "Reject the null hypothesis that There is no correlation between monthly charges and churn.\n",
      "Sufficient evidence to move forward understanding that There is a correlation between monthly charges and churn.\n"
     ]
    },
    {
     "data": {
      "text/plain": [
       "1.282665827622829e-17"
      ]
     },
     "execution_count": 18,
     "metadata": {},
     "output_type": "execute_result"
    }
   ],
   "source": [
    "# Running a chi squared statistical test to compare proportions and have more confidence\n",
    "alpha = 0.05\n",
    "null_hypothesis = \"There is no correlation between monthly charges and churn.\"\n",
    "alternative_hypothesis = \"There is a correlation between monthly charges and churn.\"\n",
    "\n",
    "# Setup a crosstab of observed churn to monthly charges\n",
    "observed = pd.crosstab(train.churn_encoded, train.monthly_charges)\n",
    "\n",
    "chi2, p, degf, expected = stats.chi2_contingency(observed)\n",
    "\n",
    "# Create an if statement to test for the null hypothesis\n",
    "if p < alpha:\n",
    "    print(\"Reject the null hypothesis that\", null_hypothesis)\n",
    "    print(\"Sufficient evidence to move forward understanding that\", alternative_hypothesis)\n",
    "else:\n",
    "    print(\"Fail to reject the null\")\n",
    "    print(\"Insufficient evidence to reject the null\")\n",
    "p"
   ]
  },
  {
   "cell_type": "code",
   "execution_count": 19,
   "id": "48429e51",
   "metadata": {},
   "outputs": [
    {
     "data": {
      "text/plain": [
       "Text(0.5, 1.0, 'Customers who paid under $2000 churned the most')"
      ]
     },
     "execution_count": 19,
     "metadata": {},
     "output_type": "execute_result"
    },
    {
     "data": {
      "image/png": "[encoded data removed]",
      "text/plain": [
       "<Figure size 640x480 with 1 Axes>"
      ]
     },
     "metadata": {},
     "output_type": "display_data"
    }
   ],
   "source": [
    "# Visualization to show level of churn for total charges\n",
    "sns.histplot(data=train, x=\"total_charges\", hue=\"churn_encoded\")\n",
    "plt.title('Customers who paid under $2000 churned the most')"
   ]
  },
  {
   "cell_type": "markdown",
   "id": "07ddc4eb",
   "metadata": {},
   "source": [
    "- A large portion of the churn for total charges occurs at the lowest pay scale. Therefore, the correlation between total charges and churn is not significant enough to move forward."
   ]
  },
  {
   "cell_type": "markdown",
   "id": "53b3e3b7",
   "metadata": {},
   "source": [
    "***Takeaways:***\n",
    "    \n",
    "It would appear that the more money that was spent by the customer for monthly charges, the more likely they are to churn.\n",
    "\n",
    "The large majority of those that churned spent $500 or less on total charges.\n",
    "\n",
    "Those customers who spent about $80 a month were the most likely to churn.\n",
    "\n",
    "Total charges produced an insufficient correlation between total charges and churn."
   ]
  },
  {
   "cell_type": "markdown",
   "id": "25de1916",
   "metadata": {},
   "source": [
    "# Exploration Summary"
   ]
  },
  {
   "cell_type": "markdown",
   "id": "40f5c5eb",
   "metadata": {},
   "source": [
    "- It is more likely that customers who have fiber optic churned versus customers who did not have fiber optic.\n",
    "- Month to month contracts produce the highest level of churn, the drastic drop from month to month to one year and two year contracts should be looked at. \n",
    "- The major contributor for customer churn is more correlated with internet services that provide security such as tech support, device protection, online backup, and online security.\n",
    "    - Other services for entertainment purposes such as streaming tv and movies had less of an impact on customer churn.\n",
    "    - I have selected online security because this factor has the highest level of churn out of the other contributors noted above.\n",
    "- It would appear that the more money that was spent by the customer, the more likely they are to churn.\n",
    "    - Those customers who spent about $80 a month were the most likely to churn."
   ]
  },
  {
   "cell_type": "markdown",
   "id": "3ff5b0cf",
   "metadata": {},
   "source": [
    "# Features I am moving to modeling With"
   ]
  },
  {
   "cell_type": "markdown",
   "id": "1430e2fd",
   "metadata": {},
   "source": [
    "- \"internet_service_type_Fiber optic\" (moderate difference in churn percentage, and relationship to churn is high)\n",
    "- \"month_to_month\" (largest difference in churn percentage, and relationship to churn is the highest)\n",
    "- \"online_security\" (moderate difference in churn percentage, and dependance is statistically significant)\n",
    "- \"monthly_charges\" (moderate difference in rating observed, and difference is statistically significant)\n"
   ]
  },
  {
   "cell_type": "markdown",
   "id": "e584e3a4",
   "metadata": {},
   "source": [
    "# Features I'm not moving to modeling with"
   ]
  },
  {
   "cell_type": "markdown",
   "id": "1475f56a",
   "metadata": {},
   "source": [
    "- TV and movie streaming services (minimal amount of churn associated with these services)\n",
    "- \"total charges\" (There is no evidence that \"total charges\" is a driver of churn)"
   ]
  },
  {
   "cell_type": "markdown",
   "id": "29aa2921",
   "metadata": {},
   "source": [
    "# Modeling\n",
    "\n",
    "- I will use accuracy as my evaluation metric.\n",
    "- Customers who did not churn makeup 73% of the data.\n",
    "- By guessing not churned for every customer one could achieve an accuracy of 73% * 73% will be the baseline accuracy I use for this project\n",
    "- I will be evaluating models developed using four different model types and various hyperparameter configurations \n",
    "- Models will be evaluated on train and validate data \n",
    "- The model that performs the best will then be evaluated on test data. \n",
    "- The decision tree model with max depth of 3 produced the best results."
   ]
  },
  {
   "cell_type": "code",
   "execution_count": 20,
   "id": "9d93432d",
   "metadata": {},
   "outputs": [],
   "source": [
    "# Create a variable that holds only the desired columns\n",
    "testing_churn = ['online_security_Yes', 'internet_service_type_Fiber optic', 'monthly_encoded', 'monthly_charges_greater_than_80']"
   ]
  },
  {
   "cell_type": "code",
   "execution_count": 21,
   "id": "cefc48d2",
   "metadata": {},
   "outputs": [
    {
     "data": {
      "text/plain": [
       "((3937, 4), (1688, 4), (1407, 4))"
      ]
     },
     "execution_count": 21,
     "metadata": {},
     "output_type": "execute_result"
    }
   ],
   "source": [
    "# drop all columns except for the target inputs: fiber optic, month to month contracts, \n",
    "# online security, and monthly charges.\n",
    "# drop object columns and create X_train of features only \n",
    "# and y_train of churn only. \n",
    "X_train = train[testing_churn]\n",
    "y_train = train.churn_encoded\n",
    "\n",
    "X_validate = validate[testing_churn]\n",
    "y_validate = validate.churn_encoded\n",
    "\n",
    "X_test = test[testing_churn]\n",
    "y_test = test.churn_encoded\n",
    "\n",
    "# check the shape\n",
    "X_train.shape, X_validate.shape, X_test.shape"
   ]
  },
  {
   "cell_type": "code",
   "execution_count": 22,
   "id": "a6da4f37",
   "metadata": {},
   "outputs": [
    {
     "name": "stdout",
     "output_type": "stream",
     "text": [
      "Baseline accuracy: 0.7343154686309372\n"
     ]
    }
   ],
   "source": [
    "# Start with the baseline\n",
    "baseline = y_train.mode()\n",
    "\n",
    "# Produce a boolean array with True representing a match between \n",
    "# the baseline prediction and reality\n",
    "matches_baseline_prediction = (y_train == 0)\n",
    "\n",
    "# Printing the baseline accuracy\n",
    "baseline_accuracy = matches_baseline_prediction.mean()\n",
    "print(f\"Baseline accuracy: {baseline_accuracy}\")"
   ]
  },
  {
   "cell_type": "markdown",
   "id": "5344031d",
   "metadata": {},
   "source": [
    "# Decision Tree"
   ]
  },
  {
   "cell_type": "code",
   "execution_count": 23,
   "id": "b84a69c7",
   "metadata": {},
   "outputs": [
    {
     "name": "stdout",
     "output_type": "stream",
     "text": [
      "Accuracy of Decision Tree on train data is: 0.7846075692151384\n",
      "Accuracy of Decision Tree on validate data is: 0.7553317535545023\n"
     ]
    }
   ],
   "source": [
    "#create the model with desired depth\n",
    "churn_tree1 = DecisionTreeClassifier(max_depth=3, random_state=123)\n",
    "\n",
    "\n",
    "#fit the model to train data\n",
    "churn_tree1 = churn_tree1.fit(X_train, y_train)\n",
    "\n",
    "\n",
    "\n",
    "# Evaluate the model's performance on train first, than validate\n",
    "y_predictions = churn_tree1.predict(X_train)\n",
    "y_predictions2 = churn_tree1.predict(X_validate)\n",
    "\n",
    "\n",
    "\n",
    "# Use the model and print the accuracy for train and validate\n",
    "accuracy = churn_tree1.score(X_train, y_train)\n",
    "accuracy2 = churn_tree1.score(X_validate, y_validate)\n",
    "print(f'Accuracy of Decision Tree on train data is: {accuracy}')\n",
    "print(f'Accuracy of Decision Tree on validate data is: {accuracy2}')"
   ]
  },
  {
   "cell_type": "markdown",
   "id": "b8b151ad",
   "metadata": {},
   "source": [
    "- Decision tree accuracy is better than the baseline accuracy."
   ]
  },
  {
   "cell_type": "markdown",
   "id": "b6efde54",
   "metadata": {},
   "source": [
    "# Logistic Regression"
   ]
  },
  {
   "cell_type": "code",
   "execution_count": 24,
   "id": "56d637e0",
   "metadata": {},
   "outputs": [
    {
     "name": "stdout",
     "output_type": "stream",
     "text": [
      "Accuracy of Logisitc Regression on train data is: 0.7343154686309372\n",
      "Accuracy of Logisitc Regression on validate data is: 0.7340047393364929\n"
     ]
    }
   ],
   "source": [
    "# create algorithm object\n",
    "logit1 = LogisticRegression(C=1, \n",
    "                           random_state=123, \n",
    "                           intercept_scaling=1, \n",
    "                           solver='liblinear'\n",
    "                          )\n",
    "\n",
    "# fit model \n",
    "logit1.fit(X_train[['online_security_Yes', 'monthly_encoded']], y_train)\n",
    "\n",
    "# Evaluate the model's performance on train first, than validate\n",
    "y_predictions3 = logit1.predict(X_train[['online_security_Yes', 'monthly_encoded']])\n",
    "y_preditions4 = logit1.predict(X_validate[['online_security_Yes', 'monthly_encoded']])\n",
    "\n",
    "# Use the model and compute the accuracy\n",
    "train_accuracy = logit1.score(X_train[['online_security_Yes', 'monthly_encoded']], \n",
    "                             y_train)\n",
    "train_accuracy2 = logit1.score(X_validate[['online_security_Yes', 'monthly_encoded']], \n",
    "                             y_validate)\n",
    "\n",
    "# Print the accuracies for train and validate\n",
    "print(f'Accuracy of Logisitc Regression on train data is: {train_accuracy}')\n",
    "print(f'Accuracy of Logisitc Regression on validate data is: {train_accuracy2}')"
   ]
  },
  {
   "cell_type": "markdown",
   "id": "2361f120",
   "metadata": {},
   "source": [
    "- Logistic Regression accuracy is similar to the baseline accuracy."
   ]
  },
  {
   "cell_type": "markdown",
   "id": "6ff619af",
   "metadata": {},
   "source": [
    "# Random Forrest"
   ]
  },
  {
   "cell_type": "code",
   "execution_count": 25,
   "id": "1ad06926",
   "metadata": {},
   "outputs": [],
   "source": [
    "# Create the model with required depth\n",
    "seed = 42\n",
    "rf = RandomForestClassifier(max_depth=5, random_state=42, min_samples_leaf=1)\n"
   ]
  },
  {
   "cell_type": "code",
   "execution_count": 26,
   "id": "8b129695",
   "metadata": {},
   "outputs": [
    {
     "name": "stdout",
     "output_type": "stream",
     "text": [
      "Accuracy of Random Tree on train data is: 0.7848615697231395\n",
      "Accuracy of Random Tree on validate data is: 0.7523696682464455\n"
     ]
    }
   ],
   "source": [
    "# fit the data to train\n",
    "rf.fit(X_train, y_train)\n",
    "\n",
    "# Evaluate the model's performance on train first, than validate\n",
    "y_pred = rf.predict(X_train)\n",
    "y_pred = rf.predict(X_validate)\n",
    "\n",
    "#Use the model, compute for accuracy, and print the accuracy of train and validate\n",
    "accuracy5 = rf.score(X_train, y_train)\n",
    "accuracy6 = rf.score(X_validate, y_validate)\n",
    "print(f'Accuracy of Random Tree on train data is: {accuracy5}')\n",
    "print(f'Accuracy of Random Tree on validate data is: {accuracy6}')"
   ]
  },
  {
   "cell_type": "markdown",
   "id": "b4b7b925",
   "metadata": {},
   "source": [
    "- Random tree accuracy is better than the baseline accuracy."
   ]
  },
  {
   "cell_type": "markdown",
   "id": "2e139f31",
   "metadata": {},
   "source": [
    "# Comparing Models\n",
    "\n",
    "- Decision Tree and Random Forest models performed better than the baseline on train and validate\n",
    "- The Logisitc Regression model performed similar on the train and validate data to the baseline.\n",
    "- Because the results of the Decision Tree and Random Forest models were very similar I could proceed to test with any of these models.\n",
    "- I have chosen to move forward with the Decision Tree model because it performed slightly better on the validate data."
   ]
  },
  {
   "cell_type": "markdown",
   "id": "5b09c3a5",
   "metadata": {},
   "source": [
    "# Decision Tree on Test"
   ]
  },
  {
   "cell_type": "code",
   "execution_count": 27,
   "id": "50080df6",
   "metadata": {},
   "outputs": [
    {
     "name": "stdout",
     "output_type": "stream",
     "text": [
      "Accuracy of Decision Tree on test data is: 0.7725657427149965\n"
     ]
    }
   ],
   "source": [
    "# Evaluate the model's performance on test data\n",
    "y_predictions_test = churn_tree1.predict(X_test)\n",
    "\n",
    "#Use the model, compute the accuracy, and print the accuracy for test\n",
    "accuracy_test = churn_tree1.score(X_test, y_test)\n",
    "print(f'Accuracy of Decision Tree on test data is: {accuracy_test}')\n",
    "\n"
   ]
  },
  {
   "cell_type": "markdown",
   "id": "72a139f5",
   "metadata": {},
   "source": [
    "## Modeling Summary\n",
    "\n",
    "- Decision Tree and Random Forest models performed better than the baseline on train and validate.\n",
    "- The Logisitc Regression model performed similar on the train and validate data to the baseline.\n",
    "- A Decision Tree model selected as the final model and had an accuracy of about 77% which is better than the baseline accuracy."
   ]
  },
  {
   "cell_type": "markdown",
   "id": "d1d3f857",
   "metadata": {},
   "source": [
    "# Conclusions\n",
    "\n",
    "## Exploration\n",
    "\n",
    "- About 43% of customers with fiber optic churned.\n",
    "- About 13% of customers without fiber optic churned.\n",
    "- It is more likely that customers who have fiber optic churned versus customers who did not have fiber optic.\n",
    "- Month to month contracts have the highest level of churn.\n",
    "- One year contracts are the next highest, but still relatively low churn.\n",
    "- Two year contracts have the lowest level of churn.\n",
    "- While it is no surprise that month to month contracts produce the highest level of churn, the drastic drop from month to month to one year and two year contracts should be looked at and possible incentives or discounts for the one year and two year contracts could reduce the amount of month to month contracts and level of churn.\n",
    "- Customers with online security have 17% churn rate.\n",
    "- Customers with no internet service have an 11% churn rate.\n",
    "- Customers withouth online security have a 40% churn rate.\n",
    "- The major contributor for customer churn is more correlated with internet services that provide security such as tech support, device protection, online backup, and online security.\n",
    "- Other services for entertainment purposes such as streaming tv and movies had less of an impact on customer churn.\n",
    "- As charges increase, churn increases until the rate reaches over 100 dollars.\n",
    "- The largest proportion of customers spent between 20-30 dollars.\n",
    "- It would appear that the more money that was spent by the customer, the more likely they are to churn.\n",
    "- The large majority of those that churned spent 500 dollars or less on total charges.\n",
    "- Those customers who spent about 80 dollars a month were the most likely to churn.\n",
    "- Total charges produced insufficient data to support a correlation between total charges and churn."
   ]
  },
  {
   "cell_type": "markdown",
   "id": "2d340b7b",
   "metadata": {},
   "source": [
    "# Modeling\n",
    "\n",
    "***The final model outperformed the baseline. Possible reasons include:***\n",
    "\n",
    "- Choosing targeted areas like online security and month to month contracts included more churned customers than those that did not churn.\n",
    "- The targeted contributors were reduced to only four and the inclusion of additional contributors might bring down the performance of the model.\n"
   ]
  },
  {
   "cell_type": "markdown",
   "id": "df1b59c8",
   "metadata": {},
   "source": [
    "# Recommendations\n",
    "\n",
    "- To reduce churn decrease the amount of month to month contracts and increase the amount of one and two year contracts.\n",
    "- Provide online security to all of the customers, this area produced the highest probability of customer churn."
   ]
  },
  {
   "cell_type": "markdown",
   "id": "2be4b676",
   "metadata": {},
   "source": [
    "# Next Steps\n",
    "\n",
    "- Explore billing methods and see if this has an effect on customer churn.\n",
    "- Investigate customers' personal information such as gender, dependents status, and if the customer had a partner to determine if these factors contributed to multiple lines, monthly charges, or type of contracts purchased."
   ]
  },
  {
   "cell_type": "code",
   "execution_count": null,
   "id": "218bbb8c",
   "metadata": {},
   "outputs": [],
   "source": []
  }
 ],
 "metadata": {
  "kernelspec": {
   "display_name": "Python 3 (ipykernel)",
   "language": "python",
   "name": "python3"
  },
  "language_info": {
   "codemirror_mode": {
    "name": "ipython",
    "version": 3
   },
   "file_extension": ".py",
   "mimetype": "text/x-python",
   "name": "python",
   "nbconvert_exporter": "python",
   "pygments_lexer": "ipython3",
   "version": "3.9.13"
  }
 },
 "nbformat": 4,
 "nbformat_minor": 5
}
