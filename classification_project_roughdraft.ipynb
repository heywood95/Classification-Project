{
 "cells": [
  {
   "cell_type": "code",
   "execution_count": 1,
   "id": "b9021ac0",
   "metadata": {},
   "outputs": [],
   "source": [
    "#standard DS imports\n",
    "import pandas as pd\n",
    "import numpy as np\n",
    "import matplotlib.pyplot as plt\n",
    "import seaborn as sns\n",
    "import os\n",
    "from scipy import stats\n",
    "\n",
    "#sklearn imports\n",
    "from sklearn.model_selection import train_test_split\n",
    "import sklearn.preprocessing\n",
    "from sklearn.tree import DecisionTreeClassifier, plot_tree\n",
    "from sklearn.ensemble import RandomForestClassifier\n",
    "from sklearn.neighbors import KNeighborsClassifier\n",
    "from sklearn.linear_model import LogisticRegression\n",
    "from sklearn.metrics import classification_report, confusion_matrix, accuracy_score, precision_score, recall_score, plot_confusion_matrix\n",
    "\n",
    "#custom imports\n",
    "import prepare\n",
    "import acquire\n",
    "import env\n",
    "\n",
    "#filter out any noisy warning flags\n",
    "import warnings\n",
    "warnings.filterwarnings('ignore')\n"
   ]
  },
  {
   "cell_type": "markdown",
   "id": "aa25105f",
   "metadata": {},
   "source": [
    "# Are customers with Fiber Optic more or less likely to churn?"
   ]
  },
  {
   "cell_type": "code",
   "execution_count": 2,
   "id": "0055d834",
   "metadata": {},
   "outputs": [
    {
     "data": {
      "text/plain": [
       "((3937, 29), (1688, 29), (1407, 29))"
      ]
     },
     "execution_count": 2,
     "metadata": {},
     "output_type": "execute_result"
    }
   ],
   "source": [
    "# Acquire Step\n",
    "df = acquire.get_telco_data()\n",
    "# prepare and split the data\n",
    "train, validate, test = prepare.prep_telco_data(df)\n",
    "\n",
    "# drop object columns and create X_train of features only \n",
    "# and y_train of churn only. \n",
    "X_train = train.drop(columns=['churn_encoded', 'internet_service_type_Fiber optic', 'gender', 'partner', 'dependents', 'phone_service', 'paperless_billing', 'churn', 'multiple_lines', 'online_security', 'online_backup', 'device_protection', 'tech_support', 'streaming_tv', 'streaming_movies', 'contract_type', 'internet_service_type', 'payment_type'])\n",
    "y_train = train.churn_encoded\n",
    "\n",
    "X_validate = validate.drop(columns=['churn_encoded', 'internet_service_type_Fiber optic', 'gender', 'partner', 'dependents', 'phone_service', 'paperless_billing', 'churn', 'multiple_lines', 'online_security', 'online_backup', 'device_protection', 'tech_support', 'streaming_tv', 'streaming_movies', 'contract_type', 'internet_service_type', 'payment_type'])\n",
    "y_validate = validate.churn_encoded\n",
    "\n",
    "X_test = test.drop(columns=['churn_encoded', 'internet_service_type_Fiber optic', 'gender', 'partner', 'dependents', 'phone_service', 'paperless_billing', 'churn', 'multiple_lines', 'online_security', 'online_backup', 'device_protection', 'tech_support', 'streaming_tv', 'streaming_movies', 'contract_type', 'internet_service_type', 'payment_type'])\n",
    "y_test = test.churn_encoded\n",
    "\n",
    "# check the shape\n",
    "X_train.shape, X_validate.shape, X_test.shape"
   ]
  },
  {
   "cell_type": "code",
   "execution_count": 3,
   "id": "2bb3de19",
   "metadata": {},
   "outputs": [
    {
     "data": {
      "text/plain": [
       "Index(['gender', 'senior_citizen', 'partner', 'dependents', 'tenure',\n",
       "       'phone_service', 'multiple_lines', 'online_security', 'online_backup',\n",
       "       'device_protection', 'tech_support', 'streaming_tv', 'streaming_movies',\n",
       "       'paperless_billing', 'monthly_charges', 'total_charges', 'churn',\n",
       "       'contract_type', 'internet_service_type', 'payment_type',\n",
       "       'gender_encoded', 'partner_encoded', 'dependents_encoded',\n",
       "       'phone_service_encoded', 'paperless_billing_encoded', 'churn_encoded',\n",
       "       'multiple_lines_No phone service', 'multiple_lines_Yes',\n",
       "       'online_security_No internet service', 'online_security_Yes',\n",
       "       'online_backup_No internet service', 'online_backup_Yes',\n",
       "       'device_protection_No internet service', 'device_protection_Yes',\n",
       "       'tech_support_No internet service', 'tech_support_Yes',\n",
       "       'streaming_tv_No internet service', 'streaming_tv_Yes',\n",
       "       'streaming_movies_No internet service', 'streaming_movies_Yes',\n",
       "       'contract_type_One year', 'contract_type_Two year',\n",
       "       'internet_service_type_Fiber optic', 'internet_service_type_None',\n",
       "       'payment_type_Credit card (automatic)', 'payment_type_Electronic check',\n",
       "       'payment_type_Mailed check'],\n",
       "      dtype='object')"
      ]
     },
     "execution_count": 3,
     "metadata": {},
     "output_type": "execute_result"
    }
   ],
   "source": [
    "train.columns"
   ]
  },
  {
   "cell_type": "code",
   "execution_count": 4,
   "id": "08d98306",
   "metadata": {},
   "outputs": [
    {
     "data": {
      "text/html": [
       "<div>\n",
       "<style scoped>\n",
       "    .dataframe tbody tr th:only-of-type {\n",
       "        vertical-align: middle;\n",
       "    }\n",
       "\n",
       "    .dataframe tbody tr th {\n",
       "        vertical-align: top;\n",
       "    }\n",
       "\n",
       "    .dataframe thead th {\n",
       "        text-align: right;\n",
       "    }\n",
       "</style>\n",
       "<table border=\"1\" class=\"dataframe\">\n",
       "  <thead>\n",
       "    <tr style=\"text-align: right;\">\n",
       "      <th></th>\n",
       "      <th>gender</th>\n",
       "      <th>senior_citizen</th>\n",
       "      <th>partner</th>\n",
       "      <th>dependents</th>\n",
       "      <th>tenure</th>\n",
       "      <th>phone_service</th>\n",
       "      <th>multiple_lines</th>\n",
       "      <th>online_security</th>\n",
       "      <th>online_backup</th>\n",
       "      <th>device_protection</th>\n",
       "      <th>...</th>\n",
       "      <th>streaming_tv_Yes</th>\n",
       "      <th>streaming_movies_No internet service</th>\n",
       "      <th>streaming_movies_Yes</th>\n",
       "      <th>contract_type_One year</th>\n",
       "      <th>contract_type_Two year</th>\n",
       "      <th>internet_service_type_Fiber optic</th>\n",
       "      <th>internet_service_type_None</th>\n",
       "      <th>payment_type_Credit card (automatic)</th>\n",
       "      <th>payment_type_Electronic check</th>\n",
       "      <th>payment_type_Mailed check</th>\n",
       "    </tr>\n",
       "  </thead>\n",
       "  <tbody>\n",
       "    <tr>\n",
       "      <th>5919</th>\n",
       "      <td>Female</td>\n",
       "      <td>0</td>\n",
       "      <td>No</td>\n",
       "      <td>No</td>\n",
       "      <td>58</td>\n",
       "      <td>Yes</td>\n",
       "      <td>Yes</td>\n",
       "      <td>Yes</td>\n",
       "      <td>Yes</td>\n",
       "      <td>Yes</td>\n",
       "      <td>...</td>\n",
       "      <td>0</td>\n",
       "      <td>0</td>\n",
       "      <td>0</td>\n",
       "      <td>1</td>\n",
       "      <td>0</td>\n",
       "      <td>0</td>\n",
       "      <td>0</td>\n",
       "      <td>1</td>\n",
       "      <td>0</td>\n",
       "      <td>0</td>\n",
       "    </tr>\n",
       "    <tr>\n",
       "      <th>1915</th>\n",
       "      <td>Male</td>\n",
       "      <td>0</td>\n",
       "      <td>No</td>\n",
       "      <td>Yes</td>\n",
       "      <td>71</td>\n",
       "      <td>Yes</td>\n",
       "      <td>Yes</td>\n",
       "      <td>Yes</td>\n",
       "      <td>Yes</td>\n",
       "      <td>No</td>\n",
       "      <td>...</td>\n",
       "      <td>0</td>\n",
       "      <td>0</td>\n",
       "      <td>0</td>\n",
       "      <td>1</td>\n",
       "      <td>0</td>\n",
       "      <td>1</td>\n",
       "      <td>0</td>\n",
       "      <td>1</td>\n",
       "      <td>0</td>\n",
       "      <td>0</td>\n",
       "    </tr>\n",
       "    <tr>\n",
       "      <th>5054</th>\n",
       "      <td>Female</td>\n",
       "      <td>0</td>\n",
       "      <td>Yes</td>\n",
       "      <td>Yes</td>\n",
       "      <td>35</td>\n",
       "      <td>Yes</td>\n",
       "      <td>Yes</td>\n",
       "      <td>No internet service</td>\n",
       "      <td>No internet service</td>\n",
       "      <td>No internet service</td>\n",
       "      <td>...</td>\n",
       "      <td>0</td>\n",
       "      <td>1</td>\n",
       "      <td>0</td>\n",
       "      <td>0</td>\n",
       "      <td>0</td>\n",
       "      <td>0</td>\n",
       "      <td>1</td>\n",
       "      <td>0</td>\n",
       "      <td>1</td>\n",
       "      <td>0</td>\n",
       "    </tr>\n",
       "    <tr>\n",
       "      <th>2355</th>\n",
       "      <td>Male</td>\n",
       "      <td>0</td>\n",
       "      <td>Yes</td>\n",
       "      <td>Yes</td>\n",
       "      <td>1</td>\n",
       "      <td>Yes</td>\n",
       "      <td>No</td>\n",
       "      <td>No internet service</td>\n",
       "      <td>No internet service</td>\n",
       "      <td>No internet service</td>\n",
       "      <td>...</td>\n",
       "      <td>0</td>\n",
       "      <td>1</td>\n",
       "      <td>0</td>\n",
       "      <td>0</td>\n",
       "      <td>0</td>\n",
       "      <td>0</td>\n",
       "      <td>1</td>\n",
       "      <td>0</td>\n",
       "      <td>0</td>\n",
       "      <td>1</td>\n",
       "    </tr>\n",
       "    <tr>\n",
       "      <th>6279</th>\n",
       "      <td>Male</td>\n",
       "      <td>1</td>\n",
       "      <td>No</td>\n",
       "      <td>No</td>\n",
       "      <td>20</td>\n",
       "      <td>Yes</td>\n",
       "      <td>No</td>\n",
       "      <td>Yes</td>\n",
       "      <td>No</td>\n",
       "      <td>No</td>\n",
       "      <td>...</td>\n",
       "      <td>0</td>\n",
       "      <td>0</td>\n",
       "      <td>0</td>\n",
       "      <td>1</td>\n",
       "      <td>0</td>\n",
       "      <td>0</td>\n",
       "      <td>0</td>\n",
       "      <td>0</td>\n",
       "      <td>0</td>\n",
       "      <td>1</td>\n",
       "    </tr>\n",
       "  </tbody>\n",
       "</table>\n",
       "<p>5 rows × 47 columns</p>\n",
       "</div>"
      ],
      "text/plain": [
       "      gender  senior_citizen partner dependents  tenure phone_service  \\\n",
       "5919  Female               0      No         No      58           Yes   \n",
       "1915    Male               0      No        Yes      71           Yes   \n",
       "5054  Female               0     Yes        Yes      35           Yes   \n",
       "2355    Male               0     Yes        Yes       1           Yes   \n",
       "6279    Male               1      No         No      20           Yes   \n",
       "\n",
       "     multiple_lines      online_security        online_backup  \\\n",
       "5919            Yes                  Yes                  Yes   \n",
       "1915            Yes                  Yes                  Yes   \n",
       "5054            Yes  No internet service  No internet service   \n",
       "2355             No  No internet service  No internet service   \n",
       "6279             No                  Yes                   No   \n",
       "\n",
       "        device_protection  ... streaming_tv_Yes  \\\n",
       "5919                  Yes  ...                0   \n",
       "1915                   No  ...                0   \n",
       "5054  No internet service  ...                0   \n",
       "2355  No internet service  ...                0   \n",
       "6279                   No  ...                0   \n",
       "\n",
       "     streaming_movies_No internet service streaming_movies_Yes  \\\n",
       "5919                                    0                    0   \n",
       "1915                                    0                    0   \n",
       "5054                                    1                    0   \n",
       "2355                                    1                    0   \n",
       "6279                                    0                    0   \n",
       "\n",
       "     contract_type_One year  contract_type_Two year  \\\n",
       "5919                      1                       0   \n",
       "1915                      1                       0   \n",
       "5054                      0                       0   \n",
       "2355                      0                       0   \n",
       "6279                      1                       0   \n",
       "\n",
       "      internet_service_type_Fiber optic internet_service_type_None  \\\n",
       "5919                                  0                          0   \n",
       "1915                                  1                          0   \n",
       "5054                                  0                          1   \n",
       "2355                                  0                          1   \n",
       "6279                                  0                          0   \n",
       "\n",
       "     payment_type_Credit card (automatic) payment_type_Electronic check  \\\n",
       "5919                                    1                             0   \n",
       "1915                                    1                             0   \n",
       "5054                                    0                             1   \n",
       "2355                                    0                             0   \n",
       "6279                                    0                             0   \n",
       "\n",
       "     payment_type_Mailed check  \n",
       "5919                         0  \n",
       "1915                         0  \n",
       "5054                         0  \n",
       "2355                         1  \n",
       "6279                         1  \n",
       "\n",
       "[5 rows x 47 columns]"
      ]
     },
     "execution_count": 4,
     "metadata": {},
     "output_type": "execute_result"
    }
   ],
   "source": [
    "train.head()"
   ]
  },
  {
   "cell_type": "code",
   "execution_count": 5,
   "id": "03b2decc",
   "metadata": {},
   "outputs": [
    {
     "data": {
      "text/plain": [
       "0    2891\n",
       "1    1046\n",
       "Name: churn_encoded, dtype: int64"
      ]
     },
     "execution_count": 5,
     "metadata": {},
     "output_type": "execute_result"
    }
   ],
   "source": [
    "train.churn_encoded.value_counts()"
   ]
  },
  {
   "cell_type": "markdown",
   "id": "062438b8",
   "metadata": {},
   "source": [
    "H_0: Customers with fiber optic are less likely to churn.\n",
    "\n",
    "H_a: Customers with fiber optic are more likely to churn."
   ]
  },
  {
   "cell_type": "code",
   "execution_count": 6,
   "id": "a35ef214",
   "metadata": {},
   "outputs": [
    {
     "data": {
      "text/plain": [
       "<AxesSubplot:xlabel='internet_service_type_Fiber optic', ylabel='count'>"
      ]
     },
     "execution_count": 6,
     "metadata": {},
     "output_type": "execute_result"
    },
    {
     "data": {
      "image/png": "[encoded data removed]",
      "text/plain": [
       "<Figure size 640x480 with 1 Axes>"
      ]
     },
     "metadata": {},
     "output_type": "display_data"
    }
   ],
   "source": [
    "sns.countplot(data=train, x=\"internet_service_type_Fiber optic\", hue=\"churn_encoded\")"
   ]
  },
  {
   "cell_type": "code",
   "execution_count": 7,
   "id": "e373658f",
   "metadata": {},
   "outputs": [
    {
     "name": "stdout",
     "output_type": "stream",
     "text": [
      "Reject the null hypothesis that Customers with fiber optic are less likely to churn.\n",
      "Sufficient evidence to move forward understanding that Customers with fiber optic are more likely to churn.\n"
     ]
    },
    {
     "data": {
      "text/plain": [
       "2.831419548361709e-90"
      ]
     },
     "execution_count": 7,
     "metadata": {},
     "output_type": "execute_result"
    }
   ],
   "source": [
    "# Let's run a chi squared to compare proportions, to have more confidence\n",
    "alpha = 0.05\n",
    "null_hypothesis = \"Customers with fiber optic are less likely to churn.\"\n",
    "alternative_hypothesis = \"Customers with fiber optic are more likely to churn.\"\n",
    "\n",
    "# Setup a crosstab of observed churn to fiber optic\n",
    "observed = pd.crosstab(train.churn_encoded, train['internet_service_type_Fiber optic'])\n",
    "\n",
    "chi2, p, degf, expected = stats.chi2_contingency(observed)\n",
    "\n",
    "if p < alpha:\n",
    "    print(\"Reject the null hypothesis that\", null_hypothesis)\n",
    "    print(\"Sufficient evidence to move forward understanding that\", alternative_hypothesis)\n",
    "else:\n",
    "    print(\"Fail to reject the null\")\n",
    "    print(\"Insufficient evidence to reject the null\")\n",
    "p"
   ]
  },
  {
   "cell_type": "markdown",
   "id": "68c61c32",
   "metadata": {},
   "source": [
    "### Takeaway:\n",
    "\n",
    "- It is more likely that customers who have fiber optic churned versus customers who did not have fiber optic."
   ]
  },
  {
   "cell_type": "markdown",
   "id": "d3b36c24",
   "metadata": {},
   "source": [
    "# Does the type of contract (one year, two year, or month to month) affect if a customer churns?"
   ]
  },
  {
   "cell_type": "markdown",
   "id": "cea6cf63",
   "metadata": {},
   "source": [
    "H_0: There is no correlation between type of contract and if a customer churns.\n",
    "\n",
    "H_a: There is a correlation between type of contract and if a customer churns."
   ]
  },
  {
   "cell_type": "code",
   "execution_count": 8,
   "id": "1c54e06a",
   "metadata": {},
   "outputs": [
    {
     "data": {
      "text/plain": [
       "<AxesSubplot:xlabel='contract_type', ylabel='count'>"
      ]
     },
     "execution_count": 8,
     "metadata": {},
     "output_type": "execute_result"
    },
    {
     "data": {
      "image/png": "[encoded data removed]",
      "text/plain": [
       "<Figure size 640x480 with 1 Axes>"
      ]
     },
     "metadata": {},
     "output_type": "display_data"
    }
   ],
   "source": [
    "sns.countplot(data=train, x=\"contract_type\", hue=\"churn_encoded\")"
   ]
  },
  {
   "cell_type": "code",
   "execution_count": 9,
   "id": "e451c7b4",
   "metadata": {},
   "outputs": [],
   "source": [
    "monthly_train = (train['contract_type_One year'] == 0) & (train['contract_type_Two year'] == 0)\n",
    "monthly_validate = (validate['contract_type_One year'] == 0) & (validate['contract_type_Two year'] == 0)\n",
    "monthly_test = (test['contract_type_One year'] == 0) & (test['contract_type_Two year'] == 0)\n"
   ]
  },
  {
   "cell_type": "code",
   "execution_count": 10,
   "id": "67065594",
   "metadata": {},
   "outputs": [],
   "source": [
    "# create a new column for month to month contracts for the train, validate, and test df\n",
    "\n",
    "train = train.assign(monthly_contract = monthly_train)\n",
    "train['monthly_encoded'] = train.monthly_contract.map({True: 1, False: 0})\n",
    "\n",
    "validate = validate.assign(monthly_contract = monthly_validate)\n",
    "validate['monthly_encoded'] = validate.monthly_contract.map({True: 1, False: 0})\n",
    "\n",
    "test = test.assign(monthly_contract = monthly_test)\n",
    "test['monthly_encoded'] = test.monthly_contract.map({True: 1, False: 0})"
   ]
  },
  {
   "cell_type": "code",
   "execution_count": 11,
   "id": "cdaddf6b",
   "metadata": {},
   "outputs": [
    {
     "data": {
      "text/html": [
       "<div>\n",
       "<style scoped>\n",
       "    .dataframe tbody tr th:only-of-type {\n",
       "        vertical-align: middle;\n",
       "    }\n",
       "\n",
       "    .dataframe tbody tr th {\n",
       "        vertical-align: top;\n",
       "    }\n",
       "\n",
       "    .dataframe thead th {\n",
       "        text-align: right;\n",
       "    }\n",
       "</style>\n",
       "<table border=\"1\" class=\"dataframe\">\n",
       "  <thead>\n",
       "    <tr style=\"text-align: right;\">\n",
       "      <th></th>\n",
       "      <th>gender</th>\n",
       "      <th>senior_citizen</th>\n",
       "      <th>partner</th>\n",
       "      <th>dependents</th>\n",
       "      <th>tenure</th>\n",
       "      <th>phone_service</th>\n",
       "      <th>multiple_lines</th>\n",
       "      <th>online_security</th>\n",
       "      <th>online_backup</th>\n",
       "      <th>device_protection</th>\n",
       "      <th>...</th>\n",
       "      <th>streaming_movies_Yes</th>\n",
       "      <th>contract_type_One year</th>\n",
       "      <th>contract_type_Two year</th>\n",
       "      <th>internet_service_type_Fiber optic</th>\n",
       "      <th>internet_service_type_None</th>\n",
       "      <th>payment_type_Credit card (automatic)</th>\n",
       "      <th>payment_type_Electronic check</th>\n",
       "      <th>payment_type_Mailed check</th>\n",
       "      <th>monthly_contract</th>\n",
       "      <th>monthly_encoded</th>\n",
       "    </tr>\n",
       "  </thead>\n",
       "  <tbody>\n",
       "    <tr>\n",
       "      <th>3311</th>\n",
       "      <td>Female</td>\n",
       "      <td>0</td>\n",
       "      <td>No</td>\n",
       "      <td>No</td>\n",
       "      <td>29</td>\n",
       "      <td>Yes</td>\n",
       "      <td>No</td>\n",
       "      <td>No internet service</td>\n",
       "      <td>No internet service</td>\n",
       "      <td>No internet service</td>\n",
       "      <td>...</td>\n",
       "      <td>0</td>\n",
       "      <td>1</td>\n",
       "      <td>0</td>\n",
       "      <td>0</td>\n",
       "      <td>1</td>\n",
       "      <td>0</td>\n",
       "      <td>0</td>\n",
       "      <td>1</td>\n",
       "      <td>False</td>\n",
       "      <td>0</td>\n",
       "    </tr>\n",
       "    <tr>\n",
       "      <th>6330</th>\n",
       "      <td>Male</td>\n",
       "      <td>0</td>\n",
       "      <td>Yes</td>\n",
       "      <td>Yes</td>\n",
       "      <td>36</td>\n",
       "      <td>Yes</td>\n",
       "      <td>Yes</td>\n",
       "      <td>No internet service</td>\n",
       "      <td>No internet service</td>\n",
       "      <td>No internet service</td>\n",
       "      <td>...</td>\n",
       "      <td>0</td>\n",
       "      <td>0</td>\n",
       "      <td>1</td>\n",
       "      <td>0</td>\n",
       "      <td>1</td>\n",
       "      <td>1</td>\n",
       "      <td>0</td>\n",
       "      <td>0</td>\n",
       "      <td>False</td>\n",
       "      <td>0</td>\n",
       "    </tr>\n",
       "    <tr>\n",
       "      <th>6156</th>\n",
       "      <td>Male</td>\n",
       "      <td>1</td>\n",
       "      <td>No</td>\n",
       "      <td>No</td>\n",
       "      <td>1</td>\n",
       "      <td>Yes</td>\n",
       "      <td>No</td>\n",
       "      <td>No</td>\n",
       "      <td>No</td>\n",
       "      <td>No</td>\n",
       "      <td>...</td>\n",
       "      <td>0</td>\n",
       "      <td>0</td>\n",
       "      <td>0</td>\n",
       "      <td>0</td>\n",
       "      <td>0</td>\n",
       "      <td>0</td>\n",
       "      <td>1</td>\n",
       "      <td>0</td>\n",
       "      <td>True</td>\n",
       "      <td>1</td>\n",
       "    </tr>\n",
       "    <tr>\n",
       "      <th>5313</th>\n",
       "      <td>Male</td>\n",
       "      <td>0</td>\n",
       "      <td>No</td>\n",
       "      <td>No</td>\n",
       "      <td>25</td>\n",
       "      <td>Yes</td>\n",
       "      <td>No</td>\n",
       "      <td>No</td>\n",
       "      <td>No</td>\n",
       "      <td>No</td>\n",
       "      <td>...</td>\n",
       "      <td>0</td>\n",
       "      <td>0</td>\n",
       "      <td>0</td>\n",
       "      <td>1</td>\n",
       "      <td>0</td>\n",
       "      <td>0</td>\n",
       "      <td>1</td>\n",
       "      <td>0</td>\n",
       "      <td>True</td>\n",
       "      <td>1</td>\n",
       "    </tr>\n",
       "    <tr>\n",
       "      <th>1176</th>\n",
       "      <td>Female</td>\n",
       "      <td>0</td>\n",
       "      <td>Yes</td>\n",
       "      <td>No</td>\n",
       "      <td>34</td>\n",
       "      <td>Yes</td>\n",
       "      <td>No</td>\n",
       "      <td>No</td>\n",
       "      <td>No</td>\n",
       "      <td>No</td>\n",
       "      <td>...</td>\n",
       "      <td>0</td>\n",
       "      <td>0</td>\n",
       "      <td>0</td>\n",
       "      <td>0</td>\n",
       "      <td>0</td>\n",
       "      <td>0</td>\n",
       "      <td>0</td>\n",
       "      <td>0</td>\n",
       "      <td>True</td>\n",
       "      <td>1</td>\n",
       "    </tr>\n",
       "  </tbody>\n",
       "</table>\n",
       "<p>5 rows × 49 columns</p>\n",
       "</div>"
      ],
      "text/plain": [
       "      gender  senior_citizen partner dependents  tenure phone_service  \\\n",
       "3311  Female               0      No         No      29           Yes   \n",
       "6330    Male               0     Yes        Yes      36           Yes   \n",
       "6156    Male               1      No         No       1           Yes   \n",
       "5313    Male               0      No         No      25           Yes   \n",
       "1176  Female               0     Yes         No      34           Yes   \n",
       "\n",
       "     multiple_lines      online_security        online_backup  \\\n",
       "3311             No  No internet service  No internet service   \n",
       "6330            Yes  No internet service  No internet service   \n",
       "6156             No                   No                   No   \n",
       "5313             No                   No                   No   \n",
       "1176             No                   No                   No   \n",
       "\n",
       "        device_protection  ... streaming_movies_Yes contract_type_One year  \\\n",
       "3311  No internet service  ...                    0                      1   \n",
       "6330  No internet service  ...                    0                      0   \n",
       "6156                   No  ...                    0                      0   \n",
       "5313                   No  ...                    0                      0   \n",
       "1176                   No  ...                    0                      0   \n",
       "\n",
       "     contract_type_Two year internet_service_type_Fiber optic  \\\n",
       "3311                      0                                 0   \n",
       "6330                      1                                 0   \n",
       "6156                      0                                 0   \n",
       "5313                      0                                 1   \n",
       "1176                      0                                 0   \n",
       "\n",
       "      internet_service_type_None  payment_type_Credit card (automatic)  \\\n",
       "3311                           1                                     0   \n",
       "6330                           1                                     1   \n",
       "6156                           0                                     0   \n",
       "5313                           0                                     0   \n",
       "1176                           0                                     0   \n",
       "\n",
       "     payment_type_Electronic check payment_type_Mailed check monthly_contract  \\\n",
       "3311                             0                         1            False   \n",
       "6330                             0                         0            False   \n",
       "6156                             1                         0             True   \n",
       "5313                             1                         0             True   \n",
       "1176                             0                         0             True   \n",
       "\n",
       "     monthly_encoded  \n",
       "3311               0  \n",
       "6330               0  \n",
       "6156               1  \n",
       "5313               1  \n",
       "1176               1  \n",
       "\n",
       "[5 rows x 49 columns]"
      ]
     },
     "execution_count": 11,
     "metadata": {},
     "output_type": "execute_result"
    }
   ],
   "source": [
    "test.head()"
   ]
  },
  {
   "cell_type": "code",
   "execution_count": 12,
   "id": "d42f70d8",
   "metadata": {},
   "outputs": [
    {
     "name": "stdout",
     "output_type": "stream",
     "text": [
      "Reject the null hypothesis that There is no correlation between type of contract and if a customer churns\n",
      "Sufficient evidence to move forward understanding that There is a correlation between type of contract and if a customer churns.\n"
     ]
    },
    {
     "data": {
      "text/plain": [
       "3.4484593947893894e-143"
      ]
     },
     "execution_count": 12,
     "metadata": {},
     "output_type": "execute_result"
    }
   ],
   "source": [
    "\n",
    "# Let's run a chi squared to compare proportions, to have more confidence\n",
    "null_hypothesis = \"There is no correlation between type of contract and if a customer churns\"\n",
    "alternative_hypothesis = \"There is a correlation between type of contract and if a customer churns.\"\n",
    "\n",
    "# Setup a crosstab of observed churn to fiber optic\n",
    "observed = pd.crosstab(train.churn_encoded, monthly_train)\n",
    "\n",
    "chi2, p, degf, expected = stats.chi2_contingency(observed)\n",
    "\n",
    "if p < alpha:\n",
    "    print(\"Reject the null hypothesis that\", null_hypothesis)\n",
    "    print(\"Sufficient evidence to move forward understanding that\", alternative_hypothesis)\n",
    "else:\n",
    "    print(\"Fail to reject the null\")\n",
    "    print(\"Insufficient evidence to reject the null\")\n",
    "p"
   ]
  },
  {
   "cell_type": "markdown",
   "id": "02502fca",
   "metadata": {},
   "source": [
    "# Is there a service that is associated with more churn than expected?"
   ]
  },
  {
   "cell_type": "code",
   "execution_count": 13,
   "id": "5ad5e35c",
   "metadata": {},
   "outputs": [
    {
     "data": {
      "text/plain": [
       "<AxesSubplot:xlabel='phone_service', ylabel='count'>"
      ]
     },
     "execution_count": 13,
     "metadata": {},
     "output_type": "execute_result"
    },
    {
     "data": {
      "image/png": "[encoded data removed]",
      "text/plain": [
       "<Figure size 640x480 with 1 Axes>"
      ]
     },
     "metadata": {},
     "output_type": "display_data"
    }
   ],
   "source": [
    "sns.countplot(data=train, x=\"phone_service\", hue=\"churn_encoded\")"
   ]
  },
  {
   "cell_type": "code",
   "execution_count": 14,
   "id": "be8414fd",
   "metadata": {},
   "outputs": [
    {
     "data": {
      "text/plain": [
       "<AxesSubplot:xlabel='multiple_lines', ylabel='count'>"
      ]
     },
     "execution_count": 14,
     "metadata": {},
     "output_type": "execute_result"
    },
    {
     "data": {
      "image/png": "[encoded data removed]",
      "text/plain": [
       "<Figure size 640x480 with 1 Axes>"
      ]
     },
     "metadata": {},
     "output_type": "display_data"
    }
   ],
   "source": [
    "sns.countplot(data=train, x=\"multiple_lines\", hue=\"churn_encoded\")"
   ]
  },
  {
   "cell_type": "code",
   "execution_count": 15,
   "id": "7e73fed6",
   "metadata": {},
   "outputs": [
    {
     "data": {
      "text/plain": [
       "<AxesSubplot:xlabel='online_security', ylabel='count'>"
      ]
     },
     "execution_count": 15,
     "metadata": {},
     "output_type": "execute_result"
    },
    {
     "data": {
      "image/png": "[encoded data removed]",
      "text/plain": [
       "<Figure size 640x480 with 1 Axes>"
      ]
     },
     "metadata": {},
     "output_type": "display_data"
    }
   ],
   "source": [
    "sns.countplot(data=train, x=\"online_security\", hue=\"churn_encoded\")"
   ]
  },
  {
   "cell_type": "code",
   "execution_count": 16,
   "id": "62a4e46b",
   "metadata": {},
   "outputs": [
    {
     "data": {
      "text/plain": [
       "<AxesSubplot:xlabel='online_backup', ylabel='count'>"
      ]
     },
     "execution_count": 16,
     "metadata": {},
     "output_type": "execute_result"
    },
    {
     "data": {
      "image/png": "[encoded data removed]",
      "text/plain": [
       "<Figure size 640x480 with 1 Axes>"
      ]
     },
     "metadata": {},
     "output_type": "display_data"
    }
   ],
   "source": [
    "sns.countplot(data=train, x=\"online_backup\", hue=\"churn_encoded\")"
   ]
  },
  {
   "cell_type": "code",
   "execution_count": 17,
   "id": "0b8f8dcb",
   "metadata": {},
   "outputs": [
    {
     "data": {
      "text/plain": [
       "<AxesSubplot:xlabel='device_protection', ylabel='count'>"
      ]
     },
     "execution_count": 17,
     "metadata": {},
     "output_type": "execute_result"
    },
    {
     "data": {
      "image/png": "[encoded data removed]",
      "text/plain": [
       "<Figure size 640x480 with 1 Axes>"
      ]
     },
     "metadata": {},
     "output_type": "display_data"
    }
   ],
   "source": [
    "sns.countplot(data=train, x=\"device_protection\", hue=\"churn_encoded\")"
   ]
  },
  {
   "cell_type": "code",
   "execution_count": 18,
   "id": "9d484269",
   "metadata": {},
   "outputs": [
    {
     "data": {
      "text/plain": [
       "<AxesSubplot:xlabel='tech_support', ylabel='count'>"
      ]
     },
     "execution_count": 18,
     "metadata": {},
     "output_type": "execute_result"
    },
    {
     "data": {
      "image/png": "[encoded data removed]",
      "text/plain": [
       "<Figure size 640x480 with 1 Axes>"
      ]
     },
     "metadata": {},
     "output_type": "display_data"
    }
   ],
   "source": [
    "sns.countplot(data=train, x=\"tech_support\", hue=\"churn_encoded\")"
   ]
  },
  {
   "cell_type": "code",
   "execution_count": 19,
   "id": "29659c2c",
   "metadata": {},
   "outputs": [
    {
     "data": {
      "text/plain": [
       "<AxesSubplot:xlabel='streaming_tv', ylabel='count'>"
      ]
     },
     "execution_count": 19,
     "metadata": {},
     "output_type": "execute_result"
    },
    {
     "data": {
      "image/png": "[encoded data removed]",
      "text/plain": [
       "<Figure size 640x480 with 1 Axes>"
      ]
     },
     "metadata": {},
     "output_type": "display_data"
    }
   ],
   "source": [
    "sns.countplot(data=train, x=\"streaming_tv\", hue=\"churn_encoded\")"
   ]
  },
  {
   "cell_type": "code",
   "execution_count": 20,
   "id": "588a484e",
   "metadata": {},
   "outputs": [
    {
     "data": {
      "text/plain": [
       "<AxesSubplot:xlabel='streaming_movies', ylabel='count'>"
      ]
     },
     "execution_count": 20,
     "metadata": {},
     "output_type": "execute_result"
    },
    {
     "data": {
      "image/png": "[encoded data removed]",
      "text/plain": [
       "<Figure size 640x480 with 1 Axes>"
      ]
     },
     "metadata": {},
     "output_type": "display_data"
    }
   ],
   "source": [
    "sns.countplot(data=train, x=\"streaming_movies\", hue=\"churn_encoded\")"
   ]
  },
  {
   "cell_type": "markdown",
   "id": "2e6d3fde",
   "metadata": {},
   "source": [
    "### Takeaways:\n",
    "\n",
    "- The major contributor for customer churn is more correlated with internet services that provide security such as tech support, device protection, online backup, and online security.\n",
    "\n",
    "- Other services for entertainment purposes such as streaming tv and movies had less of an impact on customer churn."
   ]
  },
  {
   "cell_type": "code",
   "execution_count": 21,
   "id": "8150c331",
   "metadata": {},
   "outputs": [
    {
     "name": "stdout",
     "output_type": "stream",
     "text": [
      "Reject the null hypothesis that Customers with online security are less likely to churn.\n",
      "Sufficient evidence to move forward understanding that Customers without online security are more likely to churn.\n"
     ]
    },
    {
     "data": {
      "text/plain": [
       "1.3862996282206897e-111"
      ]
     },
     "execution_count": 21,
     "metadata": {},
     "output_type": "execute_result"
    }
   ],
   "source": [
    "# Let's run a chi squared to compare proportions, to have more confidence\n",
    "alpha = 0.05\n",
    "null_hypothesis = \"Customers with online security are less likely to churn.\"\n",
    "alternative_hypothesis = \"Customers without online security are more likely to churn.\"\n",
    "\n",
    "# Setup a crosstab of observed churn to fiber optic\n",
    "observed = pd.crosstab(train.churn_encoded, train.online_security)\n",
    "\n",
    "chi2, p, degf, expected = stats.chi2_contingency(observed)\n",
    "\n",
    "if p < alpha:\n",
    "    print(\"Reject the null hypothesis that\", null_hypothesis)\n",
    "    print(\"Sufficient evidence to move forward understanding that\", alternative_hypothesis)\n",
    "else:\n",
    "    print(\"Fail to reject the null\")\n",
    "    print(\"Insufficient evidence to reject the null\")\n",
    "p"
   ]
  },
  {
   "cell_type": "markdown",
   "id": "536ff5da",
   "metadata": {},
   "source": [
    "# Do customers who churn have a higher average monthly spend than those who don't?"
   ]
  },
  {
   "cell_type": "code",
   "execution_count": 22,
   "id": "ae9ad194",
   "metadata": {},
   "outputs": [
    {
     "data": {
      "text/plain": [
       "<AxesSubplot:xlabel='total_charges', ylabel='Count'>"
      ]
     },
     "execution_count": 22,
     "metadata": {},
     "output_type": "execute_result"
    },
    {
     "data": {
      "image/png": "[encoded data removed]",
      "text/plain": [
       "<Figure size 640x480 with 1 Axes>"
      ]
     },
     "metadata": {},
     "output_type": "display_data"
    }
   ],
   "source": [
    "sns.histplot(data=train, x=\"total_charges\", hue=\"churn_encoded\")"
   ]
  },
  {
   "cell_type": "code",
   "execution_count": 23,
   "id": "35c2f996",
   "metadata": {},
   "outputs": [
    {
     "data": {
      "text/plain": [
       "<AxesSubplot:xlabel='monthly_charges', ylabel='Count'>"
      ]
     },
     "execution_count": 23,
     "metadata": {},
     "output_type": "execute_result"
    },
    {
     "data": {
      "image/png": "[encoded data removed]",
      "text/plain": [
       "<Figure size 640x480 with 1 Axes>"
      ]
     },
     "metadata": {},
     "output_type": "display_data"
    }
   ],
   "source": [
    "sns.histplot(data=train, x=\"monthly_charges\", hue=\"churn_encoded\")"
   ]
  },
  {
   "cell_type": "markdown",
   "id": "9481fa65",
   "metadata": {},
   "source": [
    "### Takeaways:\n",
    "\n",
    "- It would appear that the more money that was spent by the customer, the less likely they are to churn. \n",
    "\n",
    "- The large majority of those that churned spent $500 or less.\n",
    "\n",
    "- Those customers who spent about $80 a month were the most likely to churn."
   ]
  },
  {
   "cell_type": "code",
   "execution_count": 24,
   "id": "c223ef60",
   "metadata": {},
   "outputs": [
    {
     "name": "stdout",
     "output_type": "stream",
     "text": [
      "Fail to reject the null\n",
      "Insufficient evidence to reject the null\n"
     ]
    },
    {
     "data": {
      "text/plain": [
       "0.605256775425444"
      ]
     },
     "execution_count": 24,
     "metadata": {},
     "output_type": "execute_result"
    }
   ],
   "source": [
    "# Let's run a chi squared to compare proportions, to have more confidence\n",
    "alpha = 0.05\n",
    "null_hypothesis = \"Customers who spend less than $500 in total charges are less likely to churn.\"\n",
    "alternative_hypothesis = \"Customers who spend less than $500 in total charges are more likely to churn.\"\n",
    "\n",
    "# Setup a crosstab of observed churn to fiber optic\n",
    "observed = pd.crosstab(train.churn_encoded, train.total_charges)\n",
    "\n",
    "chi2, p, degf, expected = stats.chi2_contingency(observed)\n",
    "\n",
    "if p < alpha:\n",
    "    print(\"Reject the null hypothesis that\", null_hypothesis)\n",
    "    print(\"Sufficient evidence to move forward understanding that\", alternative_hypothesis)\n",
    "else:\n",
    "    print(\"Fail to reject the null\")\n",
    "    print(\"Insufficient evidence to reject the null\")\n",
    "p"
   ]
  },
  {
   "cell_type": "code",
   "execution_count": 25,
   "id": "b7a237ee",
   "metadata": {},
   "outputs": [
    {
     "name": "stdout",
     "output_type": "stream",
     "text": [
      "Reject the null hypothesis that There is no correlation between monthly charges and churn.\n",
      "Sufficient evidence to move forward understanding that There is a correlation between monthly charges and churn.\n"
     ]
    },
    {
     "data": {
      "text/plain": [
       "1.7696616579595508e-06"
      ]
     },
     "execution_count": 25,
     "metadata": {},
     "output_type": "execute_result"
    }
   ],
   "source": [
    "# Let's run a chi squared to compare proportions, to have more confidence\n",
    "alpha = 0.05\n",
    "null_hypothesis = \"There is no correlation between monthly charges and churn.\"\n",
    "alternative_hypothesis = \"There is a correlation between monthly charges and churn.\"\n",
    "\n",
    "# Setup a crosstab of observed churn to fiber optic\n",
    "observed = pd.crosstab(train.churn_encoded, train.monthly_charges)\n",
    "\n",
    "chi2, p, degf, expected = stats.chi2_contingency(observed)\n",
    "\n",
    "if p < alpha:\n",
    "    print(\"Reject the null hypothesis that\", null_hypothesis)\n",
    "    print(\"Sufficient evidence to move forward understanding that\", alternative_hypothesis)\n",
    "else:\n",
    "    print(\"Fail to reject the null\")\n",
    "    print(\"Insufficient evidence to reject the null\")\n",
    "p"
   ]
  },
  {
   "cell_type": "code",
   "execution_count": 26,
   "id": "5c8a9f01",
   "metadata": {},
   "outputs": [],
   "source": [
    "monthly_charges_80_train = (train['monthly_charges'] >= 80) \n",
    "monthly_charges_80_validate = (validate['monthly_charges'] >= 80) \n",
    "monthly_charges_80_test = (test['monthly_charges'] >= 80) \n"
   ]
  },
  {
   "cell_type": "code",
   "execution_count": 27,
   "id": "1d4be057",
   "metadata": {},
   "outputs": [],
   "source": [
    "# create a new column for monthly charges greater than $80 for the train, validate, and test df\n",
    "\n",
    "train = train.assign(monthly_charges = monthly_charges_80_train)\n",
    "train\n",
    "\n",
    "train['monthly_charges_greater_than_80'] = train.monthly_charges.map({True: 1, False: 0})\n",
    "train.head()\n",
    "\n",
    "validate = validate.assign(monthly_charges = monthly_charges_80_validate)\n",
    "validate['monthly_charges_greater_than_80'] = validate.monthly_charges.map({True: 1, False: 0})\n",
    "\n",
    "test = test.assign(monthly_charges = monthly_charges_80_test)\n",
    "test['monthly_charges_greater_than_80'] = test.monthly_charges.map({True: 1, False: 0})"
   ]
  },
  {
   "cell_type": "code",
   "execution_count": 28,
   "id": "346145c2",
   "metadata": {},
   "outputs": [
    {
     "data": {
      "text/html": [
       "<div>\n",
       "<style scoped>\n",
       "    .dataframe tbody tr th:only-of-type {\n",
       "        vertical-align: middle;\n",
       "    }\n",
       "\n",
       "    .dataframe tbody tr th {\n",
       "        vertical-align: top;\n",
       "    }\n",
       "\n",
       "    .dataframe thead th {\n",
       "        text-align: right;\n",
       "    }\n",
       "</style>\n",
       "<table border=\"1\" class=\"dataframe\">\n",
       "  <thead>\n",
       "    <tr style=\"text-align: right;\">\n",
       "      <th></th>\n",
       "      <th>gender</th>\n",
       "      <th>senior_citizen</th>\n",
       "      <th>partner</th>\n",
       "      <th>dependents</th>\n",
       "      <th>tenure</th>\n",
       "      <th>phone_service</th>\n",
       "      <th>multiple_lines</th>\n",
       "      <th>online_security</th>\n",
       "      <th>online_backup</th>\n",
       "      <th>device_protection</th>\n",
       "      <th>...</th>\n",
       "      <th>contract_type_One year</th>\n",
       "      <th>contract_type_Two year</th>\n",
       "      <th>internet_service_type_Fiber optic</th>\n",
       "      <th>internet_service_type_None</th>\n",
       "      <th>payment_type_Credit card (automatic)</th>\n",
       "      <th>payment_type_Electronic check</th>\n",
       "      <th>payment_type_Mailed check</th>\n",
       "      <th>monthly_contract</th>\n",
       "      <th>monthly_encoded</th>\n",
       "      <th>monthly_charges_greater_than_80</th>\n",
       "    </tr>\n",
       "  </thead>\n",
       "  <tbody>\n",
       "    <tr>\n",
       "      <th>816</th>\n",
       "      <td>Female</td>\n",
       "      <td>0</td>\n",
       "      <td>Yes</td>\n",
       "      <td>No</td>\n",
       "      <td>27</td>\n",
       "      <td>Yes</td>\n",
       "      <td>Yes</td>\n",
       "      <td>No</td>\n",
       "      <td>No</td>\n",
       "      <td>No</td>\n",
       "      <td>...</td>\n",
       "      <td>0</td>\n",
       "      <td>0</td>\n",
       "      <td>1</td>\n",
       "      <td>0</td>\n",
       "      <td>1</td>\n",
       "      <td>0</td>\n",
       "      <td>0</td>\n",
       "      <td>True</td>\n",
       "      <td>1</td>\n",
       "      <td>1</td>\n",
       "    </tr>\n",
       "    <tr>\n",
       "      <th>1488</th>\n",
       "      <td>Female</td>\n",
       "      <td>0</td>\n",
       "      <td>Yes</td>\n",
       "      <td>No</td>\n",
       "      <td>71</td>\n",
       "      <td>Yes</td>\n",
       "      <td>Yes</td>\n",
       "      <td>Yes</td>\n",
       "      <td>Yes</td>\n",
       "      <td>Yes</td>\n",
       "      <td>...</td>\n",
       "      <td>0</td>\n",
       "      <td>1</td>\n",
       "      <td>0</td>\n",
       "      <td>0</td>\n",
       "      <td>1</td>\n",
       "      <td>0</td>\n",
       "      <td>0</td>\n",
       "      <td>False</td>\n",
       "      <td>0</td>\n",
       "      <td>1</td>\n",
       "    </tr>\n",
       "    <tr>\n",
       "      <th>4796</th>\n",
       "      <td>Male</td>\n",
       "      <td>0</td>\n",
       "      <td>No</td>\n",
       "      <td>No</td>\n",
       "      <td>44</td>\n",
       "      <td>No</td>\n",
       "      <td>No phone service</td>\n",
       "      <td>Yes</td>\n",
       "      <td>No</td>\n",
       "      <td>Yes</td>\n",
       "      <td>...</td>\n",
       "      <td>1</td>\n",
       "      <td>0</td>\n",
       "      <td>0</td>\n",
       "      <td>0</td>\n",
       "      <td>0</td>\n",
       "      <td>1</td>\n",
       "      <td>0</td>\n",
       "      <td>False</td>\n",
       "      <td>0</td>\n",
       "      <td>0</td>\n",
       "    </tr>\n",
       "    <tr>\n",
       "      <th>3213</th>\n",
       "      <td>Female</td>\n",
       "      <td>0</td>\n",
       "      <td>Yes</td>\n",
       "      <td>Yes</td>\n",
       "      <td>27</td>\n",
       "      <td>Yes</td>\n",
       "      <td>No</td>\n",
       "      <td>No internet service</td>\n",
       "      <td>No internet service</td>\n",
       "      <td>No internet service</td>\n",
       "      <td>...</td>\n",
       "      <td>0</td>\n",
       "      <td>1</td>\n",
       "      <td>0</td>\n",
       "      <td>1</td>\n",
       "      <td>0</td>\n",
       "      <td>0</td>\n",
       "      <td>1</td>\n",
       "      <td>False</td>\n",
       "      <td>0</td>\n",
       "      <td>0</td>\n",
       "    </tr>\n",
       "    <tr>\n",
       "      <th>5026</th>\n",
       "      <td>Male</td>\n",
       "      <td>0</td>\n",
       "      <td>Yes</td>\n",
       "      <td>Yes</td>\n",
       "      <td>62</td>\n",
       "      <td>Yes</td>\n",
       "      <td>No</td>\n",
       "      <td>No internet service</td>\n",
       "      <td>No internet service</td>\n",
       "      <td>No internet service</td>\n",
       "      <td>...</td>\n",
       "      <td>0</td>\n",
       "      <td>1</td>\n",
       "      <td>0</td>\n",
       "      <td>1</td>\n",
       "      <td>1</td>\n",
       "      <td>0</td>\n",
       "      <td>0</td>\n",
       "      <td>False</td>\n",
       "      <td>0</td>\n",
       "      <td>0</td>\n",
       "    </tr>\n",
       "  </tbody>\n",
       "</table>\n",
       "<p>5 rows × 50 columns</p>\n",
       "</div>"
      ],
      "text/plain": [
       "      gender  senior_citizen partner dependents  tenure phone_service  \\\n",
       "816   Female               0     Yes         No      27           Yes   \n",
       "1488  Female               0     Yes         No      71           Yes   \n",
       "4796    Male               0      No         No      44            No   \n",
       "3213  Female               0     Yes        Yes      27           Yes   \n",
       "5026    Male               0     Yes        Yes      62           Yes   \n",
       "\n",
       "        multiple_lines      online_security        online_backup  \\\n",
       "816                Yes                   No                   No   \n",
       "1488               Yes                  Yes                  Yes   \n",
       "4796  No phone service                  Yes                   No   \n",
       "3213                No  No internet service  No internet service   \n",
       "5026                No  No internet service  No internet service   \n",
       "\n",
       "        device_protection  ... contract_type_One year contract_type_Two year  \\\n",
       "816                    No  ...                      0                      0   \n",
       "1488                  Yes  ...                      0                      1   \n",
       "4796                  Yes  ...                      1                      0   \n",
       "3213  No internet service  ...                      0                      1   \n",
       "5026  No internet service  ...                      0                      1   \n",
       "\n",
       "     internet_service_type_Fiber optic internet_service_type_None  \\\n",
       "816                                  1                          0   \n",
       "1488                                 0                          0   \n",
       "4796                                 0                          0   \n",
       "3213                                 0                          1   \n",
       "5026                                 0                          1   \n",
       "\n",
       "      payment_type_Credit card (automatic)  payment_type_Electronic check  \\\n",
       "816                                      1                              0   \n",
       "1488                                     1                              0   \n",
       "4796                                     0                              1   \n",
       "3213                                     0                              0   \n",
       "5026                                     1                              0   \n",
       "\n",
       "     payment_type_Mailed check monthly_contract monthly_encoded  \\\n",
       "816                          0             True               1   \n",
       "1488                         0            False               0   \n",
       "4796                         0            False               0   \n",
       "3213                         1            False               0   \n",
       "5026                         0            False               0   \n",
       "\n",
       "     monthly_charges_greater_than_80  \n",
       "816                                1  \n",
       "1488                               1  \n",
       "4796                               0  \n",
       "3213                               0  \n",
       "5026                               0  \n",
       "\n",
       "[5 rows x 50 columns]"
      ]
     },
     "execution_count": 28,
     "metadata": {},
     "output_type": "execute_result"
    }
   ],
   "source": [
    "validate.head()"
   ]
  },
  {
   "cell_type": "code",
   "execution_count": 29,
   "id": "61719097",
   "metadata": {},
   "outputs": [
    {
     "data": {
      "text/plain": [
       "Index(['gender', 'senior_citizen', 'partner', 'dependents', 'tenure',\n",
       "       'phone_service', 'multiple_lines', 'online_security', 'online_backup',\n",
       "       'device_protection', 'tech_support', 'streaming_tv', 'streaming_movies',\n",
       "       'paperless_billing', 'monthly_charges', 'total_charges', 'churn',\n",
       "       'contract_type', 'internet_service_type', 'payment_type',\n",
       "       'gender_encoded', 'partner_encoded', 'dependents_encoded',\n",
       "       'phone_service_encoded', 'paperless_billing_encoded', 'churn_encoded',\n",
       "       'multiple_lines_No phone service', 'multiple_lines_Yes',\n",
       "       'online_security_No internet service', 'online_security_Yes',\n",
       "       'online_backup_No internet service', 'online_backup_Yes',\n",
       "       'device_protection_No internet service', 'device_protection_Yes',\n",
       "       'tech_support_No internet service', 'tech_support_Yes',\n",
       "       'streaming_tv_No internet service', 'streaming_tv_Yes',\n",
       "       'streaming_movies_No internet service', 'streaming_movies_Yes',\n",
       "       'contract_type_One year', 'contract_type_Two year',\n",
       "       'internet_service_type_Fiber optic', 'internet_service_type_None',\n",
       "       'payment_type_Credit card (automatic)', 'payment_type_Electronic check',\n",
       "       'payment_type_Mailed check', 'monthly_contract', 'monthly_encoded',\n",
       "       'monthly_charges_greater_than_80'],\n",
       "      dtype='object')"
      ]
     },
     "execution_count": 29,
     "metadata": {},
     "output_type": "execute_result"
    }
   ],
   "source": [
    "train.columns"
   ]
  },
  {
   "cell_type": "code",
   "execution_count": 30,
   "id": "83e1a231",
   "metadata": {},
   "outputs": [],
   "source": [
    "testing_churn = ['online_security_Yes', 'internet_service_type_Fiber optic', 'monthly_encoded', 'monthly_charges_greater_than_80']"
   ]
  },
  {
   "cell_type": "code",
   "execution_count": 31,
   "id": "1b17fe8c",
   "metadata": {},
   "outputs": [
    {
     "data": {
      "text/html": [
       "<div>\n",
       "<style scoped>\n",
       "    .dataframe tbody tr th:only-of-type {\n",
       "        vertical-align: middle;\n",
       "    }\n",
       "\n",
       "    .dataframe tbody tr th {\n",
       "        vertical-align: top;\n",
       "    }\n",
       "\n",
       "    .dataframe thead th {\n",
       "        text-align: right;\n",
       "    }\n",
       "</style>\n",
       "<table border=\"1\" class=\"dataframe\">\n",
       "  <thead>\n",
       "    <tr style=\"text-align: right;\">\n",
       "      <th></th>\n",
       "      <th>online_security_Yes</th>\n",
       "      <th>internet_service_type_Fiber optic</th>\n",
       "      <th>monthly_encoded</th>\n",
       "      <th>monthly_charges_greater_than_80</th>\n",
       "    </tr>\n",
       "  </thead>\n",
       "  <tbody>\n",
       "    <tr>\n",
       "      <th>5919</th>\n",
       "      <td>1</td>\n",
       "      <td>0</td>\n",
       "      <td>0</td>\n",
       "      <td>0</td>\n",
       "    </tr>\n",
       "    <tr>\n",
       "      <th>1915</th>\n",
       "      <td>1</td>\n",
       "      <td>1</td>\n",
       "      <td>0</td>\n",
       "      <td>1</td>\n",
       "    </tr>\n",
       "    <tr>\n",
       "      <th>5054</th>\n",
       "      <td>0</td>\n",
       "      <td>0</td>\n",
       "      <td>1</td>\n",
       "      <td>0</td>\n",
       "    </tr>\n",
       "    <tr>\n",
       "      <th>2355</th>\n",
       "      <td>0</td>\n",
       "      <td>0</td>\n",
       "      <td>1</td>\n",
       "      <td>0</td>\n",
       "    </tr>\n",
       "    <tr>\n",
       "      <th>6279</th>\n",
       "      <td>1</td>\n",
       "      <td>0</td>\n",
       "      <td>0</td>\n",
       "      <td>0</td>\n",
       "    </tr>\n",
       "    <tr>\n",
       "      <th>...</th>\n",
       "      <td>...</td>\n",
       "      <td>...</td>\n",
       "      <td>...</td>\n",
       "      <td>...</td>\n",
       "    </tr>\n",
       "    <tr>\n",
       "      <th>394</th>\n",
       "      <td>0</td>\n",
       "      <td>1</td>\n",
       "      <td>1</td>\n",
       "      <td>1</td>\n",
       "    </tr>\n",
       "    <tr>\n",
       "      <th>3763</th>\n",
       "      <td>1</td>\n",
       "      <td>1</td>\n",
       "      <td>1</td>\n",
       "      <td>1</td>\n",
       "    </tr>\n",
       "    <tr>\n",
       "      <th>3444</th>\n",
       "      <td>0</td>\n",
       "      <td>0</td>\n",
       "      <td>0</td>\n",
       "      <td>0</td>\n",
       "    </tr>\n",
       "    <tr>\n",
       "      <th>1002</th>\n",
       "      <td>0</td>\n",
       "      <td>1</td>\n",
       "      <td>1</td>\n",
       "      <td>1</td>\n",
       "    </tr>\n",
       "    <tr>\n",
       "      <th>4192</th>\n",
       "      <td>0</td>\n",
       "      <td>0</td>\n",
       "      <td>1</td>\n",
       "      <td>0</td>\n",
       "    </tr>\n",
       "  </tbody>\n",
       "</table>\n",
       "<p>3937 rows × 4 columns</p>\n",
       "</div>"
      ],
      "text/plain": [
       "      online_security_Yes  internet_service_type_Fiber optic  monthly_encoded  \\\n",
       "5919                    1                                  0                0   \n",
       "1915                    1                                  1                0   \n",
       "5054                    0                                  0                1   \n",
       "2355                    0                                  0                1   \n",
       "6279                    1                                  0                0   \n",
       "...                   ...                                ...              ...   \n",
       "394                     0                                  1                1   \n",
       "3763                    1                                  1                1   \n",
       "3444                    0                                  0                0   \n",
       "1002                    0                                  1                1   \n",
       "4192                    0                                  0                1   \n",
       "\n",
       "      monthly_charges_greater_than_80  \n",
       "5919                                0  \n",
       "1915                                1  \n",
       "5054                                0  \n",
       "2355                                0  \n",
       "6279                                0  \n",
       "...                               ...  \n",
       "394                                 1  \n",
       "3763                                1  \n",
       "3444                                0  \n",
       "1002                                1  \n",
       "4192                                0  \n",
       "\n",
       "[3937 rows x 4 columns]"
      ]
     },
     "execution_count": 31,
     "metadata": {},
     "output_type": "execute_result"
    }
   ],
   "source": [
    "train[testing_churn]\n"
   ]
  },
  {
   "cell_type": "code",
   "execution_count": 32,
   "id": "2106c2ac",
   "metadata": {},
   "outputs": [
    {
     "data": {
      "text/plain": [
       "((3937, 4), (1688, 4), (1407, 4))"
      ]
     },
     "execution_count": 32,
     "metadata": {},
     "output_type": "execute_result"
    }
   ],
   "source": [
    "# drop all columns except for the target inputs: fiber optic, month to month contracts, \n",
    "# online security, and monthly charges.\n",
    "# drop object columns and create X_train of features only \n",
    "# and y_train of churn only. \n",
    "X_train = train[testing_churn]\n",
    "y_train = train.churn_encoded\n",
    "\n",
    "X_validate = validate[testing_churn]\n",
    "y_validate = validate.churn_encoded\n",
    "\n",
    "X_test = test[testing_churn]\n",
    "y_test = test.churn_encoded\n",
    "\n",
    "# check the shape\n",
    "X_train.shape, X_validate.shape, X_test.shape"
   ]
  },
  {
   "cell_type": "code",
   "execution_count": 33,
   "id": "268f521d",
   "metadata": {},
   "outputs": [
    {
     "name": "stdout",
     "output_type": "stream",
     "text": [
      "Baseline accuracy: 0.73\n"
     ]
    }
   ],
   "source": [
    "# Start with the baseline\n",
    "baseline = y_train.mode()\n",
    "\n",
    "# Produce a boolean array with True representing a match between the baseline prediction and reality\n",
    "matches_baseline_prediction = (y_train == 0)\n",
    "\n",
    "baseline_accuracy = matches_baseline_prediction.mean()\n",
    "print(f\"Baseline accuracy: {round(baseline_accuracy, 2)}\")"
   ]
  },
  {
   "cell_type": "code",
   "execution_count": 34,
   "id": "6f34ff75",
   "metadata": {},
   "outputs": [],
   "source": [
    "#create the model with desired depth\n",
    "churn_tree1 = DecisionTreeClassifier(max_depth=5, random_state=123)\n"
   ]
  },
  {
   "cell_type": "code",
   "execution_count": 35,
   "id": "f848a186",
   "metadata": {},
   "outputs": [],
   "source": [
    "#fit the model\n",
    "churn_tree1 = churn_tree1.fit(X_train, y_train)\n"
   ]
  },
  {
   "cell_type": "code",
   "execution_count": 36,
   "id": "2e7bcd70",
   "metadata": {},
   "outputs": [],
   "source": [
    "# Use the model\n",
    "# Evaluate the model's performance on train first\n",
    "y_predictions = churn_tree1.predict(X_train)"
   ]
  },
  {
   "cell_type": "code",
   "execution_count": 37,
   "id": "2c7fcdbd",
   "metadata": {},
   "outputs": [
    {
     "data": {
      "image/png": "[encoded data removed]",
      "text/plain": [
       "<Figure size 1700x500 with 1 Axes>"
      ]
     },
     "metadata": {},
     "output_type": "display_data"
    }
   ],
   "source": [
    "#visualize\n",
    "plt.figure(figsize=(17, 5))\n",
    "plot_tree(churn_tree1, feature_names=X_train.columns, \n",
    "class_names = np.array(churn_tree1.classes_).astype('str').tolist(), rounded=True)\n",
    "plt.show()"
   ]
  },
  {
   "cell_type": "code",
   "execution_count": 38,
   "id": "6f87ea71",
   "metadata": {},
   "outputs": [
    {
     "name": "stdout",
     "output_type": "stream",
     "text": [
      "Model 1 accuracy: 78.49%\n"
     ]
    }
   ],
   "source": [
    "#Use it\n",
    "accuracy = churn_tree1.score(X_train, y_train)\n",
    "print(f'Model 1 accuracy: {accuracy:.2%}')"
   ]
  },
  {
   "cell_type": "code",
   "execution_count": 39,
   "id": "861ae8a5",
   "metadata": {},
   "outputs": [
    {
     "data": {
      "text/plain": [
       "<sklearn.metrics._plot.confusion_matrix.ConfusionMatrixDisplay at 0x7fce001dd430>"
      ]
     },
     "execution_count": 39,
     "metadata": {},
     "output_type": "execute_result"
    },
    {
     "data": {
      "image/png": "[encoded data removed]",
      "text/plain": [
       "<Figure size 640x480 with 2 Axes>"
      ]
     },
     "metadata": {},
     "output_type": "display_data"
    }
   ],
   "source": [
    "plot_confusion_matrix(churn_tree1, X_train, y_train)"
   ]
  },
  {
   "cell_type": "code",
   "execution_count": 40,
   "id": "3909db9a",
   "metadata": {},
   "outputs": [
    {
     "name": "stdout",
     "output_type": "stream",
     "text": [
      "              precision    recall  f1-score   support\n",
      "\n",
      "           0       0.85      0.86      0.85      2891\n",
      "           1       0.60      0.57      0.59      1046\n",
      "\n",
      "    accuracy                           0.78      3937\n",
      "   macro avg       0.72      0.72      0.72      3937\n",
      "weighted avg       0.78      0.78      0.78      3937\n",
      "\n"
     ]
    }
   ],
   "source": [
    "print(classification_report(y_train, y_predictions))"
   ]
  },
  {
   "cell_type": "code",
   "execution_count": 41,
   "id": "b45fdd44",
   "metadata": {},
   "outputs": [
    {
     "name": "stdout",
     "output_type": "stream",
     "text": [
      "Tree of 3 depth\n"
     ]
    },
    {
     "data": {
      "text/html": [
       "<div>\n",
       "<style scoped>\n",
       "    .dataframe tbody tr th:only-of-type {\n",
       "        vertical-align: middle;\n",
       "    }\n",
       "\n",
       "    .dataframe tbody tr th {\n",
       "        vertical-align: top;\n",
       "    }\n",
       "\n",
       "    .dataframe thead th {\n",
       "        text-align: right;\n",
       "    }\n",
       "</style>\n",
       "<table border=\"1\" class=\"dataframe\">\n",
       "  <thead>\n",
       "    <tr style=\"text-align: right;\">\n",
       "      <th></th>\n",
       "      <th>precision</th>\n",
       "      <th>recall</th>\n",
       "      <th>f1-score</th>\n",
       "      <th>support</th>\n",
       "    </tr>\n",
       "  </thead>\n",
       "  <tbody>\n",
       "    <tr>\n",
       "      <th>0</th>\n",
       "      <td>0.847383</td>\n",
       "      <td>0.862331</td>\n",
       "      <td>0.854792</td>\n",
       "      <td>2891.000000</td>\n",
       "    </tr>\n",
       "    <tr>\n",
       "      <th>1</th>\n",
       "      <td>0.600000</td>\n",
       "      <td>0.570746</td>\n",
       "      <td>0.585007</td>\n",
       "      <td>1046.000000</td>\n",
       "    </tr>\n",
       "    <tr>\n",
       "      <th>accuracy</th>\n",
       "      <td>0.784862</td>\n",
       "      <td>0.784862</td>\n",
       "      <td>0.784862</td>\n",
       "      <td>0.784862</td>\n",
       "    </tr>\n",
       "    <tr>\n",
       "      <th>macro avg</th>\n",
       "      <td>0.723691</td>\n",
       "      <td>0.716539</td>\n",
       "      <td>0.719900</td>\n",
       "      <td>3937.000000</td>\n",
       "    </tr>\n",
       "    <tr>\n",
       "      <th>weighted avg</th>\n",
       "      <td>0.781657</td>\n",
       "      <td>0.784862</td>\n",
       "      <td>0.783114</td>\n",
       "      <td>3937.000000</td>\n",
       "    </tr>\n",
       "  </tbody>\n",
       "</table>\n",
       "</div>"
      ],
      "text/plain": [
       "              precision    recall  f1-score      support\n",
       "0              0.847383  0.862331  0.854792  2891.000000\n",
       "1              0.600000  0.570746  0.585007  1046.000000\n",
       "accuracy       0.784862  0.784862  0.784862     0.784862\n",
       "macro avg      0.723691  0.716539  0.719900  3937.000000\n",
       "weighted avg   0.781657  0.784862  0.783114  3937.000000"
      ]
     },
     "execution_count": 41,
     "metadata": {},
     "output_type": "execute_result"
    }
   ],
   "source": [
    "# Produce the classification report on the actual y values and this model's predicted y values\n",
    "report = classification_report(y_train, y_predictions, output_dict=True)\n",
    "print(\"Tree of 3 depth\")\n",
    "pd.DataFrame(report).T"
   ]
  },
  {
   "cell_type": "markdown",
   "id": "b1ae94d2",
   "metadata": {},
   "source": [
    "### Takeaways:\n",
    "\n",
    "- With an accuracy of 78.46%, our Model 1 (max_depth = 3) performed better than our baseline accuracy of 73%\n",
    "- Next step is to make a loop to test different max depths."
   ]
  },
  {
   "cell_type": "code",
   "execution_count": 42,
   "id": "00662df0",
   "metadata": {},
   "outputs": [
    {
     "data": {
      "text/html": [
       "<div>\n",
       "<style scoped>\n",
       "    .dataframe tbody tr th:only-of-type {\n",
       "        vertical-align: middle;\n",
       "    }\n",
       "\n",
       "    .dataframe tbody tr th {\n",
       "        vertical-align: top;\n",
       "    }\n",
       "\n",
       "    .dataframe thead th {\n",
       "        text-align: right;\n",
       "    }\n",
       "</style>\n",
       "<table border=\"1\" class=\"dataframe\">\n",
       "  <thead>\n",
       "    <tr style=\"text-align: right;\">\n",
       "      <th></th>\n",
       "      <th>online_security_Yes</th>\n",
       "      <th>internet_service_type_Fiber optic</th>\n",
       "      <th>monthly_encoded</th>\n",
       "      <th>monthly_charges_greater_than_80</th>\n",
       "    </tr>\n",
       "  </thead>\n",
       "  <tbody>\n",
       "    <tr>\n",
       "      <th>3311</th>\n",
       "      <td>0</td>\n",
       "      <td>0</td>\n",
       "      <td>0</td>\n",
       "      <td>0</td>\n",
       "    </tr>\n",
       "    <tr>\n",
       "      <th>6330</th>\n",
       "      <td>0</td>\n",
       "      <td>0</td>\n",
       "      <td>0</td>\n",
       "      <td>0</td>\n",
       "    </tr>\n",
       "    <tr>\n",
       "      <th>6156</th>\n",
       "      <td>0</td>\n",
       "      <td>0</td>\n",
       "      <td>1</td>\n",
       "      <td>0</td>\n",
       "    </tr>\n",
       "    <tr>\n",
       "      <th>5313</th>\n",
       "      <td>0</td>\n",
       "      <td>1</td>\n",
       "      <td>1</td>\n",
       "      <td>0</td>\n",
       "    </tr>\n",
       "    <tr>\n",
       "      <th>1176</th>\n",
       "      <td>0</td>\n",
       "      <td>0</td>\n",
       "      <td>1</td>\n",
       "      <td>0</td>\n",
       "    </tr>\n",
       "    <tr>\n",
       "      <th>...</th>\n",
       "      <td>...</td>\n",
       "      <td>...</td>\n",
       "      <td>...</td>\n",
       "      <td>...</td>\n",
       "    </tr>\n",
       "    <tr>\n",
       "      <th>600</th>\n",
       "      <td>1</td>\n",
       "      <td>1</td>\n",
       "      <td>0</td>\n",
       "      <td>1</td>\n",
       "    </tr>\n",
       "    <tr>\n",
       "      <th>3946</th>\n",
       "      <td>0</td>\n",
       "      <td>0</td>\n",
       "      <td>1</td>\n",
       "      <td>0</td>\n",
       "    </tr>\n",
       "    <tr>\n",
       "      <th>3230</th>\n",
       "      <td>0</td>\n",
       "      <td>0</td>\n",
       "      <td>1</td>\n",
       "      <td>0</td>\n",
       "    </tr>\n",
       "    <tr>\n",
       "      <th>349</th>\n",
       "      <td>0</td>\n",
       "      <td>0</td>\n",
       "      <td>1</td>\n",
       "      <td>0</td>\n",
       "    </tr>\n",
       "    <tr>\n",
       "      <th>3690</th>\n",
       "      <td>0</td>\n",
       "      <td>1</td>\n",
       "      <td>0</td>\n",
       "      <td>1</td>\n",
       "    </tr>\n",
       "  </tbody>\n",
       "</table>\n",
       "<p>1407 rows × 4 columns</p>\n",
       "</div>"
      ],
      "text/plain": [
       "      online_security_Yes  internet_service_type_Fiber optic  monthly_encoded  \\\n",
       "3311                    0                                  0                0   \n",
       "6330                    0                                  0                0   \n",
       "6156                    0                                  0                1   \n",
       "5313                    0                                  1                1   \n",
       "1176                    0                                  0                1   \n",
       "...                   ...                                ...              ...   \n",
       "600                     1                                  1                0   \n",
       "3946                    0                                  0                1   \n",
       "3230                    0                                  0                1   \n",
       "349                     0                                  0                1   \n",
       "3690                    0                                  1                0   \n",
       "\n",
       "      monthly_charges_greater_than_80  \n",
       "3311                                0  \n",
       "6330                                0  \n",
       "6156                                0  \n",
       "5313                                0  \n",
       "1176                                0  \n",
       "...                               ...  \n",
       "600                                 1  \n",
       "3946                                0  \n",
       "3230                                0  \n",
       "349                                 0  \n",
       "3690                                1  \n",
       "\n",
       "[1407 rows x 4 columns]"
      ]
     },
     "execution_count": 42,
     "metadata": {},
     "output_type": "execute_result"
    }
   ],
   "source": [
    "X_test"
   ]
  },
  {
   "cell_type": "code",
   "execution_count": 43,
   "id": "9963e82f",
   "metadata": {},
   "outputs": [
    {
     "data": {
      "text/html": [
       "<div>\n",
       "<style scoped>\n",
       "    .dataframe tbody tr th:only-of-type {\n",
       "        vertical-align: middle;\n",
       "    }\n",
       "\n",
       "    .dataframe tbody tr th {\n",
       "        vertical-align: top;\n",
       "    }\n",
       "\n",
       "    .dataframe thead th {\n",
       "        text-align: right;\n",
       "    }\n",
       "</style>\n",
       "<table border=\"1\" class=\"dataframe\">\n",
       "  <thead>\n",
       "    <tr style=\"text-align: right;\">\n",
       "      <th></th>\n",
       "      <th>max_depth</th>\n",
       "      <th>train_accuracy</th>\n",
       "      <th>validate_accuracy</th>\n",
       "      <th>difference</th>\n",
       "    </tr>\n",
       "  </thead>\n",
       "  <tbody>\n",
       "    <tr>\n",
       "      <th>0</th>\n",
       "      <td>1</td>\n",
       "      <td>0.734315</td>\n",
       "      <td>0.734005</td>\n",
       "      <td>0.000311</td>\n",
       "    </tr>\n",
       "    <tr>\n",
       "      <th>1</th>\n",
       "      <td>2</td>\n",
       "      <td>0.772416</td>\n",
       "      <td>0.738744</td>\n",
       "      <td>0.033671</td>\n",
       "    </tr>\n",
       "    <tr>\n",
       "      <th>2</th>\n",
       "      <td>3</td>\n",
       "      <td>0.784608</td>\n",
       "      <td>0.755332</td>\n",
       "      <td>0.029276</td>\n",
       "    </tr>\n",
       "    <tr>\n",
       "      <th>3</th>\n",
       "      <td>4</td>\n",
       "      <td>0.784862</td>\n",
       "      <td>0.752370</td>\n",
       "      <td>0.032492</td>\n",
       "    </tr>\n",
       "  </tbody>\n",
       "</table>\n",
       "</div>"
      ],
      "text/plain": [
       "   max_depth  train_accuracy  validate_accuracy  difference\n",
       "0          1        0.734315           0.734005    0.000311\n",
       "1          2        0.772416           0.738744    0.033671\n",
       "2          3        0.784608           0.755332    0.029276\n",
       "3          4        0.784862           0.752370    0.032492"
      ]
     },
     "execution_count": 43,
     "metadata": {},
     "output_type": "execute_result"
    }
   ],
   "source": [
    "#Use the thing\n",
    "\n",
    "metrics = []\n",
    "\n",
    "for i in range(1, 5):\n",
    "    # Make the model\n",
    "    churn_trees = DecisionTreeClassifier(max_depth=i, random_state=123)\n",
    "\n",
    "    # Fit the model (on train and only train)\n",
    "    churn_trees = churn_trees.fit(X_train, y_train)\n",
    "\n",
    "    # Use the model\n",
    "    # We'll evaluate the model's performance on train, first\n",
    "    in_sample_accuracy = churn_trees.score(X_train, y_train)\n",
    "    \n",
    "    out_of_sample_accuracy = churn_trees.score(X_validate, y_validate)\n",
    "\n",
    "    output = {\n",
    "        \"max_depth\": i,\n",
    "        \"train_accuracy\": in_sample_accuracy,\n",
    "        \"validate_accuracy\": out_of_sample_accuracy\n",
    "    }\n",
    "    \n",
    "    metrics.append(output)\n",
    "    \n",
    "df = pd.DataFrame(metrics)\n",
    "df[\"difference\"] = df.train_accuracy - df.validate_accuracy\n",
    "df"
   ]
  },
  {
   "cell_type": "code",
   "execution_count": 44,
   "id": "78567151",
   "metadata": {},
   "outputs": [
    {
     "data": {
      "image/png": "[encoded data removed]",
      "text/plain": [
       "<Figure size 1200x600 with 1 Axes>"
      ]
     },
     "metadata": {},
     "output_type": "display_data"
    }
   ],
   "source": [
    "#Let's visualize this\n",
    "plt.figure(figsize=(12, 6))\n",
    "plt.plot(df.max_depth, df.train_accuracy, marker = 'o', label = 'Train')\n",
    "plt.plot(df.max_depth, df.validate_accuracy, marker = 'o', label = 'Validate')\n",
    "plt.title('Overfitting Occurs after max depth of 1')\n",
    "plt.xlabel('Max Depth')\n",
    "plt.ylabel('Accuracy')\n",
    "plt.legend()\n",
    "plt.show()"
   ]
  },
  {
   "cell_type": "code",
   "execution_count": 45,
   "id": "bd4e3ab6",
   "metadata": {},
   "outputs": [
    {
     "data": {
      "text/html": [
       "<div>\n",
       "<style scoped>\n",
       "    .dataframe tbody tr th:only-of-type {\n",
       "        vertical-align: middle;\n",
       "    }\n",
       "\n",
       "    .dataframe tbody tr th {\n",
       "        vertical-align: top;\n",
       "    }\n",
       "\n",
       "    .dataframe thead th {\n",
       "        text-align: right;\n",
       "    }\n",
       "</style>\n",
       "<table border=\"1\" class=\"dataframe\">\n",
       "  <thead>\n",
       "    <tr style=\"text-align: right;\">\n",
       "      <th></th>\n",
       "      <th>max_depth</th>\n",
       "      <th>train_accuracy</th>\n",
       "      <th>validate_accuracy</th>\n",
       "      <th>difference</th>\n",
       "    </tr>\n",
       "  </thead>\n",
       "  <tbody>\n",
       "    <tr>\n",
       "      <th>2</th>\n",
       "      <td>3</td>\n",
       "      <td>0.784608</td>\n",
       "      <td>0.755332</td>\n",
       "      <td>0.029276</td>\n",
       "    </tr>\n",
       "    <tr>\n",
       "      <th>3</th>\n",
       "      <td>4</td>\n",
       "      <td>0.784862</td>\n",
       "      <td>0.752370</td>\n",
       "      <td>0.032492</td>\n",
       "    </tr>\n",
       "    <tr>\n",
       "      <th>1</th>\n",
       "      <td>2</td>\n",
       "      <td>0.772416</td>\n",
       "      <td>0.738744</td>\n",
       "      <td>0.033671</td>\n",
       "    </tr>\n",
       "    <tr>\n",
       "      <th>0</th>\n",
       "      <td>1</td>\n",
       "      <td>0.734315</td>\n",
       "      <td>0.734005</td>\n",
       "      <td>0.000311</td>\n",
       "    </tr>\n",
       "  </tbody>\n",
       "</table>\n",
       "</div>"
      ],
      "text/plain": [
       "   max_depth  train_accuracy  validate_accuracy  difference\n",
       "2          3        0.784608           0.755332    0.029276\n",
       "3          4        0.784862           0.752370    0.032492\n",
       "1          2        0.772416           0.738744    0.033671\n",
       "0          1        0.734315           0.734005    0.000311"
      ]
     },
     "execution_count": 45,
     "metadata": {},
     "output_type": "execute_result"
    }
   ],
   "source": [
    "df[df.difference <= 0.10].sort_values(by=['validate_accuracy', 'difference'], ascending = [False,True])"
   ]
  },
  {
   "cell_type": "markdown",
   "id": "e0d47bf3",
   "metadata": {},
   "source": [
    "### Takeaways:\n",
    "\n",
    "- It looks like max_depth of 1 is our best option"
   ]
  },
  {
   "cell_type": "code",
   "execution_count": 46,
   "id": "4dc10c55",
   "metadata": {},
   "outputs": [],
   "source": [
    "seed = 42\n",
    "rf = RandomForestClassifier(max_depth=4, random_state=42, min_samples_leaf=1)\n"
   ]
  },
  {
   "cell_type": "code",
   "execution_count": 47,
   "id": "57ce60fb",
   "metadata": {},
   "outputs": [
    {
     "data": {
      "text/plain": [
       "RandomForestClassifier(max_depth=4, random_state=42)"
      ]
     },
     "execution_count": 47,
     "metadata": {},
     "output_type": "execute_result"
    }
   ],
   "source": [
    "rf.fit(X_train, y_train)"
   ]
  },
  {
   "cell_type": "code",
   "execution_count": 48,
   "id": "537a24ff",
   "metadata": {},
   "outputs": [],
   "source": [
    "y_pred = rf.predict(X_train)"
   ]
  },
  {
   "cell_type": "code",
   "execution_count": 49,
   "id": "88c97ab0",
   "metadata": {},
   "outputs": [
    {
     "name": "stdout",
     "output_type": "stream",
     "text": [
      "Accuracy of random forest classifier on training set: 0.78\n"
     ]
    }
   ],
   "source": [
    "print('Accuracy of random forest classifier on training set: {:.2f}'\n",
    "     .format(rf.score(X_train, y_train)))"
   ]
  },
  {
   "cell_type": "code",
   "execution_count": 50,
   "id": "6de6b4ed",
   "metadata": {},
   "outputs": [
    {
     "name": "stdout",
     "output_type": "stream",
     "text": [
      "              precision    recall  f1-score   support\n",
      "\n",
      "           0       0.85      0.86      0.85      2891\n",
      "           1       0.60      0.57      0.59      1046\n",
      "\n",
      "    accuracy                           0.78      3937\n",
      "   macro avg       0.72      0.72      0.72      3937\n",
      "weighted avg       0.78      0.78      0.78      3937\n",
      "\n"
     ]
    }
   ],
   "source": [
    "print(classification_report(y_train, y_pred))"
   ]
  },
  {
   "cell_type": "code",
   "execution_count": 51,
   "id": "7568c0e3",
   "metadata": {},
   "outputs": [
    {
     "name": "stdout",
     "output_type": "stream",
     "text": [
      "Accuracy of random forest classifier on test set: 0.75\n"
     ]
    }
   ],
   "source": [
    "print('Accuracy of random forest classifier on test set: {:.2f}'\n",
    "     .format(rf.score(X_validate, y_validate)))"
   ]
  },
  {
   "cell_type": "code",
   "execution_count": 52,
   "id": "34332de8",
   "metadata": {},
   "outputs": [],
   "source": [
    "knn = KNeighborsClassifier()\n",
    "knn.fit(X_train, y_train)\n",
    "y_train_pred = knn.predict(X_train)"
   ]
  },
  {
   "cell_type": "code",
   "execution_count": 53,
   "id": "4f49020d",
   "metadata": {},
   "outputs": [
    {
     "data": {
      "text/plain": [
       "(0.7721615443230887, 0.7417061611374408)"
      ]
     },
     "execution_count": 53,
     "metadata": {},
     "output_type": "execute_result"
    }
   ],
   "source": [
    "# model score\n",
    "accuracy_train = knn.score(X_train, y_train)\n",
    "accuracy_validate = knn.score(X_validate, y_validate)\n",
    "accuracy_train, accuracy_validate"
   ]
  },
  {
   "cell_type": "code",
   "execution_count": 54,
   "id": "0753a1e3",
   "metadata": {},
   "outputs": [
    {
     "data": {
      "text/html": [
       "<div>\n",
       "<style scoped>\n",
       "    .dataframe tbody tr th:only-of-type {\n",
       "        vertical-align: middle;\n",
       "    }\n",
       "\n",
       "    .dataframe tbody tr th {\n",
       "        vertical-align: top;\n",
       "    }\n",
       "\n",
       "    .dataframe thead th {\n",
       "        text-align: right;\n",
       "    }\n",
       "</style>\n",
       "<table border=\"1\" class=\"dataframe\">\n",
       "  <thead>\n",
       "    <tr style=\"text-align: right;\">\n",
       "      <th></th>\n",
       "      <th>Pred 0</th>\n",
       "      <th>Pred 1</th>\n",
       "    </tr>\n",
       "  </thead>\n",
       "  <tbody>\n",
       "    <tr>\n",
       "      <th>Actual 0</th>\n",
       "      <td>2393</td>\n",
       "      <td>498</td>\n",
       "    </tr>\n",
       "    <tr>\n",
       "      <th>Actual 1</th>\n",
       "      <td>399</td>\n",
       "      <td>647</td>\n",
       "    </tr>\n",
       "  </tbody>\n",
       "</table>\n",
       "</div>"
      ],
      "text/plain": [
       "          Pred 0  Pred 1\n",
       "Actual 0    2393     498\n",
       "Actual 1     399     647"
      ]
     },
     "execution_count": 54,
     "metadata": {},
     "output_type": "execute_result"
    }
   ],
   "source": [
    "# confusion matrix\n",
    "cm = confusion_matrix(y_train, y_train_pred)\n",
    "pd.DataFrame(cm, index=['Actual 0', 'Actual 1'], \n",
    "             columns=['Pred 0', 'Pred 1'])"
   ]
  },
  {
   "cell_type": "code",
   "execution_count": 55,
   "id": "280d8ab8",
   "metadata": {},
   "outputs": [
    {
     "data": {
      "text/html": [
       "<div>\n",
       "<style scoped>\n",
       "    .dataframe tbody tr th:only-of-type {\n",
       "        vertical-align: middle;\n",
       "    }\n",
       "\n",
       "    .dataframe tbody tr th {\n",
       "        vertical-align: top;\n",
       "    }\n",
       "\n",
       "    .dataframe thead th {\n",
       "        text-align: right;\n",
       "    }\n",
       "</style>\n",
       "<table border=\"1\" class=\"dataframe\">\n",
       "  <thead>\n",
       "    <tr style=\"text-align: right;\">\n",
       "      <th></th>\n",
       "      <th>0</th>\n",
       "      <th>1</th>\n",
       "      <th>accuracy</th>\n",
       "      <th>macro avg</th>\n",
       "      <th>weighted avg</th>\n",
       "    </tr>\n",
       "  </thead>\n",
       "  <tbody>\n",
       "    <tr>\n",
       "      <th>precision</th>\n",
       "      <td>0.857092</td>\n",
       "      <td>0.565066</td>\n",
       "      <td>0.772162</td>\n",
       "      <td>0.711079</td>\n",
       "      <td>0.779505</td>\n",
       "    </tr>\n",
       "    <tr>\n",
       "      <th>recall</th>\n",
       "      <td>0.827741</td>\n",
       "      <td>0.618547</td>\n",
       "      <td>0.772162</td>\n",
       "      <td>0.723144</td>\n",
       "      <td>0.772162</td>\n",
       "    </tr>\n",
       "    <tr>\n",
       "      <th>f1-score</th>\n",
       "      <td>0.842161</td>\n",
       "      <td>0.590598</td>\n",
       "      <td>0.772162</td>\n",
       "      <td>0.716379</td>\n",
       "      <td>0.775324</td>\n",
       "    </tr>\n",
       "    <tr>\n",
       "      <th>support</th>\n",
       "      <td>2891.000000</td>\n",
       "      <td>1046.000000</td>\n",
       "      <td>0.772162</td>\n",
       "      <td>3937.000000</td>\n",
       "      <td>3937.000000</td>\n",
       "    </tr>\n",
       "  </tbody>\n",
       "</table>\n",
       "</div>"
      ],
      "text/plain": [
       "                     0            1  accuracy    macro avg  weighted avg\n",
       "precision     0.857092     0.565066  0.772162     0.711079      0.779505\n",
       "recall        0.827741     0.618547  0.772162     0.723144      0.772162\n",
       "f1-score      0.842161     0.590598  0.772162     0.716379      0.775324\n",
       "support    2891.000000  1046.000000  0.772162  3937.000000   3937.000000"
      ]
     },
     "execution_count": 55,
     "metadata": {},
     "output_type": "execute_result"
    }
   ],
   "source": [
    "# classification report\n",
    "pd.DataFrame(classification_report(y_train, \n",
    "                                   y_train_pred, \n",
    "                                   output_dict=True))"
   ]
  },
  {
   "cell_type": "code",
   "execution_count": 56,
   "id": "9ba725c8",
   "metadata": {},
   "outputs": [
    {
     "name": "stdout",
     "output_type": "stream",
     "text": [
      "Train Accuracy: 0.7846075692151384\n",
      "Baseline Accuracy: 0.7343154686309372\n"
     ]
    }
   ],
   "source": [
    "# create algorithm object\n",
    "logit1 = LogisticRegression(C=1, \n",
    "                           random_state=123, \n",
    "                           intercept_scaling=1, \n",
    "                           solver='liblinear'\n",
    "                          )\n",
    "\n",
    "# fit model with age, pclass and fare as only features\n",
    "logit1.fit(X_train, y_train)\n",
    "\n",
    "# compute accuracy\n",
    "train_accuracy = logit1.score(X_train, \n",
    "                             y_train)\n",
    "\n",
    "# compare this model with baseline\n",
    "print(f'Train Accuracy: {train_accuracy}')\n",
    "print(f'Baseline Accuracy: {baseline_accuracy}')"
   ]
  },
  {
   "cell_type": "code",
   "execution_count": 60,
   "id": "9d846568",
   "metadata": {},
   "outputs": [
    {
     "name": "stdout",
     "output_type": "stream",
     "text": [
      "Accuracy of Decision Tree on test data is: 0.7697228144989339\n"
     ]
    }
   ],
   "source": [
    "# Evaluate the model's performance on test data\n",
    "y_predictions_test = churn_tree1.predict(X_test)\n",
    "y_pred_proba = logit6.y_predictions_test(X_test)\n",
    "\n",
    "#Use the model, compute the accuracy, and print the accuracy for test\n",
    "accuracy_test = churn_tree1.score(X_test, y_test)\n",
    "print(f'Accuracy of Decision Tree on test data is: {accuracy_test}')"
   ]
  },
  {
   "cell_type": "code",
   "execution_count": 71,
   "id": "50bee08e",
   "metadata": {},
   "outputs": [
    {
     "data": {
      "text/plain": [
       "3311    0\n",
       "6330    0\n",
       "6156    0\n",
       "5313    0\n",
       "1176    0\n",
       "       ..\n",
       "600     1\n",
       "3946    0\n",
       "3230    1\n",
       "349     0\n",
       "3690    0\n",
       "Name: churn_encoded, Length: 1407, dtype: int64"
      ]
     },
     "execution_count": 71,
     "metadata": {},
     "output_type": "execute_result"
    }
   ],
   "source": [
    "y_test"
   ]
  },
  {
   "cell_type": "code",
   "execution_count": 83,
   "id": "adb366f4",
   "metadata": {},
   "outputs": [
    {
     "data": {
      "text/html": [
       "<div>\n",
       "<style scoped>\n",
       "    .dataframe tbody tr th:only-of-type {\n",
       "        vertical-align: middle;\n",
       "    }\n",
       "\n",
       "    .dataframe tbody tr th {\n",
       "        vertical-align: top;\n",
       "    }\n",
       "\n",
       "    .dataframe thead th {\n",
       "        text-align: right;\n",
       "    }\n",
       "</style>\n",
       "<table border=\"1\" class=\"dataframe\">\n",
       "  <thead>\n",
       "    <tr style=\"text-align: right;\">\n",
       "      <th></th>\n",
       "      <th>probability</th>\n",
       "      <th>prediction</th>\n",
       "    </tr>\n",
       "  </thead>\n",
       "  <tbody>\n",
       "    <tr>\n",
       "      <th>0</th>\n",
       "      <td>0.031593</td>\n",
       "      <td>0</td>\n",
       "    </tr>\n",
       "    <tr>\n",
       "      <th>1</th>\n",
       "      <td>0.031593</td>\n",
       "      <td>0</td>\n",
       "    </tr>\n",
       "    <tr>\n",
       "      <th>2</th>\n",
       "      <td>0.288288</td>\n",
       "      <td>0</td>\n",
       "    </tr>\n",
       "    <tr>\n",
       "      <th>3</th>\n",
       "      <td>0.634731</td>\n",
       "      <td>1</td>\n",
       "    </tr>\n",
       "    <tr>\n",
       "      <th>4</th>\n",
       "      <td>0.288288</td>\n",
       "      <td>0</td>\n",
       "    </tr>\n",
       "    <tr>\n",
       "      <th>...</th>\n",
       "      <td>...</td>\n",
       "      <td>...</td>\n",
       "    </tr>\n",
       "    <tr>\n",
       "      <th>1402</th>\n",
       "      <td>0.101818</td>\n",
       "      <td>0</td>\n",
       "    </tr>\n",
       "    <tr>\n",
       "      <th>1403</th>\n",
       "      <td>0.288288</td>\n",
       "      <td>0</td>\n",
       "    </tr>\n",
       "    <tr>\n",
       "      <th>1404</th>\n",
       "      <td>0.288288</td>\n",
       "      <td>0</td>\n",
       "    </tr>\n",
       "    <tr>\n",
       "      <th>1405</th>\n",
       "      <td>0.288288</td>\n",
       "      <td>0</td>\n",
       "    </tr>\n",
       "    <tr>\n",
       "      <th>1406</th>\n",
       "      <td>0.181818</td>\n",
       "      <td>0</td>\n",
       "    </tr>\n",
       "  </tbody>\n",
       "</table>\n",
       "<p>1407 rows × 2 columns</p>\n",
       "</div>"
      ],
      "text/plain": [
       "      probability  prediction\n",
       "0        0.031593           0\n",
       "1        0.031593           0\n",
       "2        0.288288           0\n",
       "3        0.634731           1\n",
       "4        0.288288           0\n",
       "...           ...         ...\n",
       "1402     0.101818           0\n",
       "1403     0.288288           0\n",
       "1404     0.288288           0\n",
       "1405     0.288288           0\n",
       "1406     0.181818           0\n",
       "\n",
       "[1407 rows x 2 columns]"
      ]
     },
     "execution_count": 83,
     "metadata": {},
     "output_type": "execute_result"
    }
   ],
   "source": [
    "y_pred_proba = churn_tree1.predict_proba(X_test)\n",
    "# select the 2nd item in the array to get prob of survival (1)\n",
    "\n",
    "y_pred_proba = np.array([i[1] for i in y_pred_proba])\n",
    "\n",
    "test_results = pd.DataFrame({'probability': y_pred_proba, \n",
    "                             'prediction': y_predictions_test,\n",
    "                             })\n",
    "test_results"
   ]
  },
  {
   "cell_type": "code",
   "execution_count": 84,
   "id": "6aba4430",
   "metadata": {},
   "outputs": [],
   "source": [
    "\n",
    "\n",
    "res = pd.DataFrame(test_results)\n",
    "res.index = X_test.index # its important for comparison\n",
    "res.columns = [\"probability of churn\", \"prediction of churn\"]\n"
   ]
  },
  {
   "cell_type": "code",
   "execution_count": 85,
   "id": "1a6dda00",
   "metadata": {},
   "outputs": [],
   "source": [
    "res.to_csv(\"prediction_results.csv\")"
   ]
  },
  {
   "cell_type": "code",
   "execution_count": null,
   "id": "14a34ba1",
   "metadata": {},
   "outputs": [],
   "source": []
  }
 ],
 "metadata": {
  "kernelspec": {
   "display_name": "Python 3 (ipykernel)",
   "language": "python",
   "name": "python3"
  },
  "language_info": {
   "codemirror_mode": {
    "name": "ipython",
    "version": 3
   },
   "file_extension": ".py",
   "mimetype": "text/x-python",
   "name": "python",
   "nbconvert_exporter": "python",
   "pygments_lexer": "ipython3",
   "version": "3.9.13"
  }
 },
 "nbformat": 4,
 "nbformat_minor": 5
}
